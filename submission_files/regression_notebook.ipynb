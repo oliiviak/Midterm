{
 "metadata": {
  "language_info": {
   "codemirror_mode": {
    "name": "ipython",
    "version": 3
   },
   "file_extension": ".py",
   "mimetype": "text/x-python",
   "name": "python",
   "nbconvert_exporter": "python",
   "pygments_lexer": "ipython3",
   "version": "3.8.5-final"
  },
  "orig_nbformat": 2,
  "kernelspec": {
   "name": "Python 3.8.5 64-bit ('base': conda)",
   "display_name": "Python 3.8.5 64-bit ('base': conda)",
   "metadata": {
    "interpreter": {
     "hash": "208ca50c4d27e81cb3362e837b8987f14388683af36617e2ae3238c5b3da3225"
    }
   }
  }
 },
 "nbformat": 4,
 "nbformat_minor": 2,
 "cells": [
  {
   "source": [
    "# Regression #"
   ],
   "cell_type": "markdown",
   "metadata": {}
  },
  {
   "cell_type": "code",
   "execution_count": 19,
   "metadata": {},
   "outputs": [],
   "source": [
    "import numpy as np\n",
    "import pandas as pd"
   ]
  },
  {
   "cell_type": "code",
   "execution_count": 20,
   "metadata": {},
   "outputs": [],
   "source": [
    "X_final = pd.read_csv('/Users/zumiis/bootcamp_git/midterm/vscode_files/X_for_testing.csv')\n",
    "y_final = pd.read_csv('/Users/zumiis/bootcamp_git/midterm/vscode_files/y_regression_final.csv')\n",
    "\n",
    "X_sample = pd.read_csv('/Users/zumiis/bootcamp_git/midterm/vscode_files/X_for_sample_testing.csv')\n",
    "y_sample = pd.read_csv('/Users/zumiis/bootcamp_git/midterm/vscode_files/y_regression_sample.csv')"
   ]
  },
  {
   "cell_type": "code",
   "execution_count": 21,
   "metadata": {},
   "outputs": [],
   "source": [
    "X_final2 = pd.read_csv('/Users/zumiis/bootcamp_git/midterm/vscode_files/testing_X_jan.csv')\n",
    "y_final2 = pd.read_csv('/Users/zumiis/bootcamp_git/midterm/vscode_files/testing_y_jan.csv')\n",
    "\n",
    "X_final2['fl_date'] = pd.to_datetime(X_final2['fl_date'])"
   ]
  },
  {
   "cell_type": "code",
   "execution_count": 22,
   "metadata": {},
   "outputs": [
    {
     "output_type": "execute_result",
     "data": {
      "text/plain": [
       "         fl_date mkt_unique_carrier branded_code_share mkt_carrier  \\\n",
       "0     2020-01-01                 WN                 WN          WN   \n",
       "1     2020-01-01                 WN                 WN          WN   \n",
       "2     2020-01-01                 WN                 WN          WN   \n",
       "3     2020-01-01                 WN                 WN          WN   \n",
       "4     2020-01-01                 WN                 WN          WN   \n",
       "...          ...                ...                ...         ...   \n",
       "13861 2020-01-02                 F9                 F9          F9   \n",
       "13862 2020-01-05                 F9                 F9          F9   \n",
       "13863 2020-01-07                 F9                 F9          F9   \n",
       "13864 2020-01-04                 WN                 WN          WN   \n",
       "13865 2020-01-05                 WN                 WN          WN   \n",
       "\n",
       "       mkt_carrier_fl_num op_unique_carrier tail_num  op_carrier_fl_num  \\\n",
       "0                     611                WN   N210WN                611   \n",
       "1                     611                WN   N210WN                611   \n",
       "2                     950                WN   N7742B                950   \n",
       "3                     950                WN   N7742B                950   \n",
       "4                    2742                WN   N247WN               2742   \n",
       "...                   ...               ...      ...                ...   \n",
       "13861                 158                F9   N943FR                158   \n",
       "13862                 158                F9   N949FR                158   \n",
       "13863                 158                F9   N949FR                158   \n",
       "13864                3013                WN   N268WN               3013   \n",
       "13865                4573                WN   N496WN               4573   \n",
       "\n",
       "       origin_airport_id origin  ... is_delayed  avg_delay_distance  \\\n",
       "0                  14107    PHX  ...          0            5.954882   \n",
       "1                  14107    PHX  ...          0            5.954882   \n",
       "2                  14107    PHX  ...          0            5.954882   \n",
       "3                  14107    PHX  ...          0            5.954882   \n",
       "4                  14107    PHX  ...          0            5.954882   \n",
       "...                  ...    ...  ...        ...                 ...   \n",
       "13861              11292    DEN  ...          0            5.313112   \n",
       "13862              11292    DEN  ...          0            5.313112   \n",
       "13863              11292    DEN  ...          0            5.313112   \n",
       "13864              13204    MCO  ...          1            5.313112   \n",
       "13865              13204    MCO  ...          1            5.313112   \n",
       "\n",
       "      dep_time_traffic arr_time_traffic  weather_og_quarter  \\\n",
       "0             146459.0         106999.0            2.896568   \n",
       "1             146459.0         106999.0            2.896568   \n",
       "2             146459.0         106999.0            2.896568   \n",
       "3             146459.0         106999.0            2.896568   \n",
       "4             146459.0         106999.0            2.896568   \n",
       "...                ...              ...                 ...   \n",
       "13861         136296.0         136037.0            2.273774   \n",
       "13862         136296.0         136037.0            2.273774   \n",
       "13863         136296.0         136037.0            2.273774   \n",
       "13864         146459.0         136037.0            2.003754   \n",
       "13865         146459.0         136037.0            2.003754   \n",
       "\n",
       "       weather_dest_quarter weather_og_period  weather_dest_period  \\\n",
       "0                  1.809727          2.998350             2.235927   \n",
       "1                  1.809727          2.998350             2.235927   \n",
       "2                  1.809727          2.998350             2.235927   \n",
       "3                  1.809727          2.998350             2.235927   \n",
       "4                  1.809727          2.998350             2.235927   \n",
       "...                     ...               ...                  ...   \n",
       "13861              2.000000          2.263550             2.090047   \n",
       "13862              2.000000          2.263550             2.090047   \n",
       "13863              2.000000          2.263550             2.090047   \n",
       "13864              2.766284          2.482585             2.455529   \n",
       "13865              2.766284          2.482585             2.455529   \n",
       "\n",
       "       weather_og_delay  weather_dest_delay  \n",
       "0              5.739033            5.271765  \n",
       "1              5.739033            5.271765  \n",
       "2              5.739033            5.271765  \n",
       "3              5.739033            5.271765  \n",
       "4              5.739033            5.271765  \n",
       "...                 ...                 ...  \n",
       "13861          5.774543            5.271765  \n",
       "13862          5.774543            5.271765  \n",
       "13863          5.774543            5.271765  \n",
       "13864          5.561964            5.271765  \n",
       "13865          5.561964            5.271765  \n",
       "\n",
       "[13866 rows x 56 columns]"
      ],
      "text/html": "<div>\n<style scoped>\n    .dataframe tbody tr th:only-of-type {\n        vertical-align: middle;\n    }\n\n    .dataframe tbody tr th {\n        vertical-align: top;\n    }\n\n    .dataframe thead th {\n        text-align: right;\n    }\n</style>\n<table border=\"1\" class=\"dataframe\">\n  <thead>\n    <tr style=\"text-align: right;\">\n      <th></th>\n      <th>fl_date</th>\n      <th>mkt_unique_carrier</th>\n      <th>branded_code_share</th>\n      <th>mkt_carrier</th>\n      <th>mkt_carrier_fl_num</th>\n      <th>op_unique_carrier</th>\n      <th>tail_num</th>\n      <th>op_carrier_fl_num</th>\n      <th>origin_airport_id</th>\n      <th>origin</th>\n      <th>...</th>\n      <th>is_delayed</th>\n      <th>avg_delay_distance</th>\n      <th>dep_time_traffic</th>\n      <th>arr_time_traffic</th>\n      <th>weather_og_quarter</th>\n      <th>weather_dest_quarter</th>\n      <th>weather_og_period</th>\n      <th>weather_dest_period</th>\n      <th>weather_og_delay</th>\n      <th>weather_dest_delay</th>\n    </tr>\n  </thead>\n  <tbody>\n    <tr>\n      <th>0</th>\n      <td>2020-01-01</td>\n      <td>WN</td>\n      <td>WN</td>\n      <td>WN</td>\n      <td>611</td>\n      <td>WN</td>\n      <td>N210WN</td>\n      <td>611</td>\n      <td>14107</td>\n      <td>PHX</td>\n      <td>...</td>\n      <td>0</td>\n      <td>5.954882</td>\n      <td>146459.0</td>\n      <td>106999.0</td>\n      <td>2.896568</td>\n      <td>1.809727</td>\n      <td>2.998350</td>\n      <td>2.235927</td>\n      <td>5.739033</td>\n      <td>5.271765</td>\n    </tr>\n    <tr>\n      <th>1</th>\n      <td>2020-01-01</td>\n      <td>WN</td>\n      <td>WN</td>\n      <td>WN</td>\n      <td>611</td>\n      <td>WN</td>\n      <td>N210WN</td>\n      <td>611</td>\n      <td>14107</td>\n      <td>PHX</td>\n      <td>...</td>\n      <td>0</td>\n      <td>5.954882</td>\n      <td>146459.0</td>\n      <td>106999.0</td>\n      <td>2.896568</td>\n      <td>1.809727</td>\n      <td>2.998350</td>\n      <td>2.235927</td>\n      <td>5.739033</td>\n      <td>5.271765</td>\n    </tr>\n    <tr>\n      <th>2</th>\n      <td>2020-01-01</td>\n      <td>WN</td>\n      <td>WN</td>\n      <td>WN</td>\n      <td>950</td>\n      <td>WN</td>\n      <td>N7742B</td>\n      <td>950</td>\n      <td>14107</td>\n      <td>PHX</td>\n      <td>...</td>\n      <td>0</td>\n      <td>5.954882</td>\n      <td>146459.0</td>\n      <td>106999.0</td>\n      <td>2.896568</td>\n      <td>1.809727</td>\n      <td>2.998350</td>\n      <td>2.235927</td>\n      <td>5.739033</td>\n      <td>5.271765</td>\n    </tr>\n    <tr>\n      <th>3</th>\n      <td>2020-01-01</td>\n      <td>WN</td>\n      <td>WN</td>\n      <td>WN</td>\n      <td>950</td>\n      <td>WN</td>\n      <td>N7742B</td>\n      <td>950</td>\n      <td>14107</td>\n      <td>PHX</td>\n      <td>...</td>\n      <td>0</td>\n      <td>5.954882</td>\n      <td>146459.0</td>\n      <td>106999.0</td>\n      <td>2.896568</td>\n      <td>1.809727</td>\n      <td>2.998350</td>\n      <td>2.235927</td>\n      <td>5.739033</td>\n      <td>5.271765</td>\n    </tr>\n    <tr>\n      <th>4</th>\n      <td>2020-01-01</td>\n      <td>WN</td>\n      <td>WN</td>\n      <td>WN</td>\n      <td>2742</td>\n      <td>WN</td>\n      <td>N247WN</td>\n      <td>2742</td>\n      <td>14107</td>\n      <td>PHX</td>\n      <td>...</td>\n      <td>0</td>\n      <td>5.954882</td>\n      <td>146459.0</td>\n      <td>106999.0</td>\n      <td>2.896568</td>\n      <td>1.809727</td>\n      <td>2.998350</td>\n      <td>2.235927</td>\n      <td>5.739033</td>\n      <td>5.271765</td>\n    </tr>\n    <tr>\n      <th>...</th>\n      <td>...</td>\n      <td>...</td>\n      <td>...</td>\n      <td>...</td>\n      <td>...</td>\n      <td>...</td>\n      <td>...</td>\n      <td>...</td>\n      <td>...</td>\n      <td>...</td>\n      <td>...</td>\n      <td>...</td>\n      <td>...</td>\n      <td>...</td>\n      <td>...</td>\n      <td>...</td>\n      <td>...</td>\n      <td>...</td>\n      <td>...</td>\n      <td>...</td>\n      <td>...</td>\n    </tr>\n    <tr>\n      <th>13861</th>\n      <td>2020-01-02</td>\n      <td>F9</td>\n      <td>F9</td>\n      <td>F9</td>\n      <td>158</td>\n      <td>F9</td>\n      <td>N943FR</td>\n      <td>158</td>\n      <td>11292</td>\n      <td>DEN</td>\n      <td>...</td>\n      <td>0</td>\n      <td>5.313112</td>\n      <td>136296.0</td>\n      <td>136037.0</td>\n      <td>2.273774</td>\n      <td>2.000000</td>\n      <td>2.263550</td>\n      <td>2.090047</td>\n      <td>5.774543</td>\n      <td>5.271765</td>\n    </tr>\n    <tr>\n      <th>13862</th>\n      <td>2020-01-05</td>\n      <td>F9</td>\n      <td>F9</td>\n      <td>F9</td>\n      <td>158</td>\n      <td>F9</td>\n      <td>N949FR</td>\n      <td>158</td>\n      <td>11292</td>\n      <td>DEN</td>\n      <td>...</td>\n      <td>0</td>\n      <td>5.313112</td>\n      <td>136296.0</td>\n      <td>136037.0</td>\n      <td>2.273774</td>\n      <td>2.000000</td>\n      <td>2.263550</td>\n      <td>2.090047</td>\n      <td>5.774543</td>\n      <td>5.271765</td>\n    </tr>\n    <tr>\n      <th>13863</th>\n      <td>2020-01-07</td>\n      <td>F9</td>\n      <td>F9</td>\n      <td>F9</td>\n      <td>158</td>\n      <td>F9</td>\n      <td>N949FR</td>\n      <td>158</td>\n      <td>11292</td>\n      <td>DEN</td>\n      <td>...</td>\n      <td>0</td>\n      <td>5.313112</td>\n      <td>136296.0</td>\n      <td>136037.0</td>\n      <td>2.273774</td>\n      <td>2.000000</td>\n      <td>2.263550</td>\n      <td>2.090047</td>\n      <td>5.774543</td>\n      <td>5.271765</td>\n    </tr>\n    <tr>\n      <th>13864</th>\n      <td>2020-01-04</td>\n      <td>WN</td>\n      <td>WN</td>\n      <td>WN</td>\n      <td>3013</td>\n      <td>WN</td>\n      <td>N268WN</td>\n      <td>3013</td>\n      <td>13204</td>\n      <td>MCO</td>\n      <td>...</td>\n      <td>1</td>\n      <td>5.313112</td>\n      <td>146459.0</td>\n      <td>136037.0</td>\n      <td>2.003754</td>\n      <td>2.766284</td>\n      <td>2.482585</td>\n      <td>2.455529</td>\n      <td>5.561964</td>\n      <td>5.271765</td>\n    </tr>\n    <tr>\n      <th>13865</th>\n      <td>2020-01-05</td>\n      <td>WN</td>\n      <td>WN</td>\n      <td>WN</td>\n      <td>4573</td>\n      <td>WN</td>\n      <td>N496WN</td>\n      <td>4573</td>\n      <td>13204</td>\n      <td>MCO</td>\n      <td>...</td>\n      <td>1</td>\n      <td>5.313112</td>\n      <td>146459.0</td>\n      <td>136037.0</td>\n      <td>2.003754</td>\n      <td>2.766284</td>\n      <td>2.482585</td>\n      <td>2.455529</td>\n      <td>5.561964</td>\n      <td>5.271765</td>\n    </tr>\n  </tbody>\n</table>\n<p>13866 rows × 56 columns</p>\n</div>"
     },
     "metadata": {},
     "execution_count": 22
    }
   ],
   "source": [
    "X_final2"
   ]
  },
  {
   "cell_type": "code",
   "execution_count": null,
   "metadata": {},
   "outputs": [],
   "source": [
    "##separate the columns needed for submission"
   ]
  },
  {
   "cell_type": "code",
   "execution_count": 23,
   "metadata": {},
   "outputs": [],
   "source": [
    "reg_submission = ['fl_date', 'mkt_carrier', 'mkt_carrier_fl_num', 'origin', 'dest']"
   ]
  },
  {
   "cell_type": "code",
   "execution_count": 24,
   "metadata": {},
   "outputs": [],
   "source": [
    "reg_submission_append = X_final2[reg_submission]"
   ]
  },
  {
   "cell_type": "code",
   "execution_count": 25,
   "metadata": {},
   "outputs": [
    {
     "output_type": "execute_result",
     "data": {
      "text/plain": [
       "         fl_date mkt_carrier  mkt_carrier_fl_num origin dest\n",
       "0     2020-01-01          WN                 611    PHX  DEN\n",
       "1     2020-01-01          WN                 611    PHX  DEN\n",
       "2     2020-01-01          WN                 950    PHX  DEN\n",
       "3     2020-01-01          WN                 950    PHX  DEN\n",
       "4     2020-01-01          WN                2742    PHX  DEN\n",
       "...          ...         ...                 ...    ...  ...\n",
       "13861 2020-01-02          F9                 158    DEN  MSN\n",
       "13862 2020-01-05          F9                 158    DEN  MSN\n",
       "13863 2020-01-07          F9                 158    DEN  MSN\n",
       "13864 2020-01-04          WN                3013    MCO  CLE\n",
       "13865 2020-01-05          WN                4573    MCO  CLE\n",
       "\n",
       "[13866 rows x 5 columns]"
      ],
      "text/html": "<div>\n<style scoped>\n    .dataframe tbody tr th:only-of-type {\n        vertical-align: middle;\n    }\n\n    .dataframe tbody tr th {\n        vertical-align: top;\n    }\n\n    .dataframe thead th {\n        text-align: right;\n    }\n</style>\n<table border=\"1\" class=\"dataframe\">\n  <thead>\n    <tr style=\"text-align: right;\">\n      <th></th>\n      <th>fl_date</th>\n      <th>mkt_carrier</th>\n      <th>mkt_carrier_fl_num</th>\n      <th>origin</th>\n      <th>dest</th>\n    </tr>\n  </thead>\n  <tbody>\n    <tr>\n      <th>0</th>\n      <td>2020-01-01</td>\n      <td>WN</td>\n      <td>611</td>\n      <td>PHX</td>\n      <td>DEN</td>\n    </tr>\n    <tr>\n      <th>1</th>\n      <td>2020-01-01</td>\n      <td>WN</td>\n      <td>611</td>\n      <td>PHX</td>\n      <td>DEN</td>\n    </tr>\n    <tr>\n      <th>2</th>\n      <td>2020-01-01</td>\n      <td>WN</td>\n      <td>950</td>\n      <td>PHX</td>\n      <td>DEN</td>\n    </tr>\n    <tr>\n      <th>3</th>\n      <td>2020-01-01</td>\n      <td>WN</td>\n      <td>950</td>\n      <td>PHX</td>\n      <td>DEN</td>\n    </tr>\n    <tr>\n      <th>4</th>\n      <td>2020-01-01</td>\n      <td>WN</td>\n      <td>2742</td>\n      <td>PHX</td>\n      <td>DEN</td>\n    </tr>\n    <tr>\n      <th>...</th>\n      <td>...</td>\n      <td>...</td>\n      <td>...</td>\n      <td>...</td>\n      <td>...</td>\n    </tr>\n    <tr>\n      <th>13861</th>\n      <td>2020-01-02</td>\n      <td>F9</td>\n      <td>158</td>\n      <td>DEN</td>\n      <td>MSN</td>\n    </tr>\n    <tr>\n      <th>13862</th>\n      <td>2020-01-05</td>\n      <td>F9</td>\n      <td>158</td>\n      <td>DEN</td>\n      <td>MSN</td>\n    </tr>\n    <tr>\n      <th>13863</th>\n      <td>2020-01-07</td>\n      <td>F9</td>\n      <td>158</td>\n      <td>DEN</td>\n      <td>MSN</td>\n    </tr>\n    <tr>\n      <th>13864</th>\n      <td>2020-01-04</td>\n      <td>WN</td>\n      <td>3013</td>\n      <td>MCO</td>\n      <td>CLE</td>\n    </tr>\n    <tr>\n      <th>13865</th>\n      <td>2020-01-05</td>\n      <td>WN</td>\n      <td>4573</td>\n      <td>MCO</td>\n      <td>CLE</td>\n    </tr>\n  </tbody>\n</table>\n<p>13866 rows × 5 columns</p>\n</div>"
     },
     "metadata": {},
     "execution_count": 25
    }
   ],
   "source": [
    "reg_submission_append"
   ]
  },
  {
   "cell_type": "code",
   "execution_count": 26,
   "metadata": {},
   "outputs": [],
   "source": [
    "reg_submission_append.to_csv('/Users/zumiis/bootcamp_git/midterm/vscode_files/append_to_submission.csv', index=False)"
   ]
  },
  {
   "source": [
    "## PCA on the 2020 data ##"
   ],
   "cell_type": "markdown",
   "metadata": {}
  },
  {
   "cell_type": "code",
   "execution_count": 27,
   "metadata": {},
   "outputs": [],
   "source": [
    "reg_features = ['fl_date', 'mkt_unique_carrier', 'origin_city_name', 'dest_city_name', 'crs_dep_time']\n",
    "reg_test_sample= X_final2[reg_features]"
   ]
  },
  {
   "cell_type": "code",
   "execution_count": 28,
   "metadata": {},
   "outputs": [],
   "source": [
    "reg_test_sample = pd.concat([reg_test_sample, X_final2[['arr_delay7', 'arr_delay14', 'arr_rolling7', 'arr_rolling14',\n",
    "       'dep_delay7', 'dep_delay14', 'dep_rolling7', 'dep_rolling14', 'quarter',\n",
    "       'year', 'month', 'day', 'avg_delay_carrier', 'avg_delay_origin_quart',\n",
    "       'avg_delay_dest_quart', 'hour_only_dep', 'hour_only_arr',\n",
    "       'time_period_dep', 'time_period_arr', 'traffic_origin_port',\n",
    "       'traffic_dest_port', 'distance_encoded', \n",
    "       'avg_delay_distance', 'dep_time_traffic', 'arr_time_traffic',\n",
    "       'weather_og_quarter', 'weather_dest_quarter', 'weather_og_period',\n",
    "       'weather_dest_period', 'weather_og_delay', 'weather_dest_delay']]], axis=1)"
   ]
  },
  {
   "cell_type": "code",
   "execution_count": 29,
   "metadata": {},
   "outputs": [],
   "source": [
    "dummies = pd.get_dummies(reg_test_sample[['mkt_unique_carrier','origin_city_name','dest_city_name']])"
   ]
  },
  {
   "cell_type": "code",
   "execution_count": 30,
   "metadata": {},
   "outputs": [],
   "source": [
    "reg_test_sample = pd.concat([reg_test_sample,dummies],axis = 1 )\n",
    "reg_test_sample = reg_test_sample.drop(['mkt_unique_carrier','origin_city_name','dest_city_name','fl_date', 'crs_dep_time'],axis=1)"
   ]
  },
  {
   "cell_type": "code",
   "execution_count": 31,
   "metadata": {},
   "outputs": [],
   "source": [
    "reg_test_sample = reg_test_sample.reset_index().drop(columns='index')"
   ]
  },
  {
   "cell_type": "code",
   "execution_count": 32,
   "metadata": {},
   "outputs": [
    {
     "output_type": "execute_result",
     "data": {
      "text/plain": [
       "       arr_delay7  arr_delay14  arr_rolling7  arr_rolling14  dep_delay7  \\\n",
       "0             1.0         -9.0      1.285714       1.571429        -1.0   \n",
       "1           -19.0         13.0     13.428571      11.000000        -5.0   \n",
       "2             1.0         -9.0      1.285714       1.571429        -1.0   \n",
       "3           -19.0         13.0     13.428571      11.000000        -5.0   \n",
       "4             1.0         -9.0      1.285714       1.571429        -1.0   \n",
       "...           ...          ...           ...            ...         ...   \n",
       "13861        -1.0        -13.0      4.428571      -2.500000         7.0   \n",
       "13862        -1.0        -13.0      4.428571      -2.500000         7.0   \n",
       "13863        -1.0        -13.0      4.428571      -2.500000         7.0   \n",
       "13864        32.0        -15.0      0.428571       3.571429        11.0   \n",
       "13865        32.0        -15.0      0.428571       3.571429        11.0   \n",
       "\n",
       "       dep_delay14  dep_rolling7  dep_rolling14  quarter  year  ...  \\\n",
       "0             -8.0      6.000000       4.714286        1  2019  ...   \n",
       "1              6.0      9.857143       9.500000        1  2019  ...   \n",
       "2             -8.0      6.000000       4.714286        1  2019  ...   \n",
       "3              6.0      9.857143       9.500000        1  2019  ...   \n",
       "4             -8.0      6.000000       4.714286        1  2019  ...   \n",
       "...            ...           ...            ...      ...   ...  ...   \n",
       "13861          2.0     11.857143       7.214286        2  2019  ...   \n",
       "13862          2.0     11.857143       7.214286        2  2019  ...   \n",
       "13863          2.0     11.857143       7.214286        2  2019  ...   \n",
       "13864         -5.0      6.428571      10.571429        3  2018  ...   \n",
       "13865         -5.0      6.428571      10.571429        3  2018  ...   \n",
       "\n",
       "       dest_city_name_Savannah, GA  dest_city_name_Seattle, WA  \\\n",
       "0                                0                           0   \n",
       "1                                0                           0   \n",
       "2                                0                           0   \n",
       "3                                0                           0   \n",
       "4                                0                           0   \n",
       "...                            ...                         ...   \n",
       "13861                            0                           0   \n",
       "13862                            0                           0   \n",
       "13863                            0                           0   \n",
       "13864                            0                           0   \n",
       "13865                            0                           0   \n",
       "\n",
       "       dest_city_name_St. Louis, MO  dest_city_name_Syracuse, NY  \\\n",
       "0                                 0                            0   \n",
       "1                                 0                            0   \n",
       "2                                 0                            0   \n",
       "3                                 0                            0   \n",
       "4                                 0                            0   \n",
       "...                             ...                          ...   \n",
       "13861                             0                            0   \n",
       "13862                             0                            0   \n",
       "13863                             0                            0   \n",
       "13864                             0                            0   \n",
       "13865                             0                            0   \n",
       "\n",
       "       dest_city_name_Tallahassee, FL  dest_city_name_Tucson, AZ  \\\n",
       "0                                   0                          0   \n",
       "1                                   0                          0   \n",
       "2                                   0                          0   \n",
       "3                                   0                          0   \n",
       "4                                   0                          0   \n",
       "...                               ...                        ...   \n",
       "13861                               0                          0   \n",
       "13862                               0                          0   \n",
       "13863                               0                          0   \n",
       "13864                               0                          0   \n",
       "13865                               0                          0   \n",
       "\n",
       "       dest_city_name_Washington, DC  \\\n",
       "0                                  0   \n",
       "1                                  0   \n",
       "2                                  0   \n",
       "3                                  0   \n",
       "4                                  0   \n",
       "...                              ...   \n",
       "13861                              0   \n",
       "13862                              0   \n",
       "13863                              0   \n",
       "13864                              0   \n",
       "13865                              0   \n",
       "\n",
       "       dest_city_name_West Palm Beach/Palm Beach, FL  \\\n",
       "0                                                  0   \n",
       "1                                                  0   \n",
       "2                                                  0   \n",
       "3                                                  0   \n",
       "4                                                  0   \n",
       "...                                              ...   \n",
       "13861                                              0   \n",
       "13862                                              0   \n",
       "13863                                              0   \n",
       "13864                                              0   \n",
       "13865                                              0   \n",
       "\n",
       "       dest_city_name_White Plains, NY  dest_city_name_Wilmington, NC  \n",
       "0                                    0                              0  \n",
       "1                                    0                              0  \n",
       "2                                    0                              0  \n",
       "3                                    0                              0  \n",
       "4                                    0                              0  \n",
       "...                                ...                            ...  \n",
       "13861                                0                              0  \n",
       "13862                                0                              0  \n",
       "13863                                0                              0  \n",
       "13864                                0                              0  \n",
       "13865                                0                              0  \n",
       "\n",
       "[13866 rows x 185 columns]"
      ],
      "text/html": "<div>\n<style scoped>\n    .dataframe tbody tr th:only-of-type {\n        vertical-align: middle;\n    }\n\n    .dataframe tbody tr th {\n        vertical-align: top;\n    }\n\n    .dataframe thead th {\n        text-align: right;\n    }\n</style>\n<table border=\"1\" class=\"dataframe\">\n  <thead>\n    <tr style=\"text-align: right;\">\n      <th></th>\n      <th>arr_delay7</th>\n      <th>arr_delay14</th>\n      <th>arr_rolling7</th>\n      <th>arr_rolling14</th>\n      <th>dep_delay7</th>\n      <th>dep_delay14</th>\n      <th>dep_rolling7</th>\n      <th>dep_rolling14</th>\n      <th>quarter</th>\n      <th>year</th>\n      <th>...</th>\n      <th>dest_city_name_Savannah, GA</th>\n      <th>dest_city_name_Seattle, WA</th>\n      <th>dest_city_name_St. Louis, MO</th>\n      <th>dest_city_name_Syracuse, NY</th>\n      <th>dest_city_name_Tallahassee, FL</th>\n      <th>dest_city_name_Tucson, AZ</th>\n      <th>dest_city_name_Washington, DC</th>\n      <th>dest_city_name_West Palm Beach/Palm Beach, FL</th>\n      <th>dest_city_name_White Plains, NY</th>\n      <th>dest_city_name_Wilmington, NC</th>\n    </tr>\n  </thead>\n  <tbody>\n    <tr>\n      <th>0</th>\n      <td>1.0</td>\n      <td>-9.0</td>\n      <td>1.285714</td>\n      <td>1.571429</td>\n      <td>-1.0</td>\n      <td>-8.0</td>\n      <td>6.000000</td>\n      <td>4.714286</td>\n      <td>1</td>\n      <td>2019</td>\n      <td>...</td>\n      <td>0</td>\n      <td>0</td>\n      <td>0</td>\n      <td>0</td>\n      <td>0</td>\n      <td>0</td>\n      <td>0</td>\n      <td>0</td>\n      <td>0</td>\n      <td>0</td>\n    </tr>\n    <tr>\n      <th>1</th>\n      <td>-19.0</td>\n      <td>13.0</td>\n      <td>13.428571</td>\n      <td>11.000000</td>\n      <td>-5.0</td>\n      <td>6.0</td>\n      <td>9.857143</td>\n      <td>9.500000</td>\n      <td>1</td>\n      <td>2019</td>\n      <td>...</td>\n      <td>0</td>\n      <td>0</td>\n      <td>0</td>\n      <td>0</td>\n      <td>0</td>\n      <td>0</td>\n      <td>0</td>\n      <td>0</td>\n      <td>0</td>\n      <td>0</td>\n    </tr>\n    <tr>\n      <th>2</th>\n      <td>1.0</td>\n      <td>-9.0</td>\n      <td>1.285714</td>\n      <td>1.571429</td>\n      <td>-1.0</td>\n      <td>-8.0</td>\n      <td>6.000000</td>\n      <td>4.714286</td>\n      <td>1</td>\n      <td>2019</td>\n      <td>...</td>\n      <td>0</td>\n      <td>0</td>\n      <td>0</td>\n      <td>0</td>\n      <td>0</td>\n      <td>0</td>\n      <td>0</td>\n      <td>0</td>\n      <td>0</td>\n      <td>0</td>\n    </tr>\n    <tr>\n      <th>3</th>\n      <td>-19.0</td>\n      <td>13.0</td>\n      <td>13.428571</td>\n      <td>11.000000</td>\n      <td>-5.0</td>\n      <td>6.0</td>\n      <td>9.857143</td>\n      <td>9.500000</td>\n      <td>1</td>\n      <td>2019</td>\n      <td>...</td>\n      <td>0</td>\n      <td>0</td>\n      <td>0</td>\n      <td>0</td>\n      <td>0</td>\n      <td>0</td>\n      <td>0</td>\n      <td>0</td>\n      <td>0</td>\n      <td>0</td>\n    </tr>\n    <tr>\n      <th>4</th>\n      <td>1.0</td>\n      <td>-9.0</td>\n      <td>1.285714</td>\n      <td>1.571429</td>\n      <td>-1.0</td>\n      <td>-8.0</td>\n      <td>6.000000</td>\n      <td>4.714286</td>\n      <td>1</td>\n      <td>2019</td>\n      <td>...</td>\n      <td>0</td>\n      <td>0</td>\n      <td>0</td>\n      <td>0</td>\n      <td>0</td>\n      <td>0</td>\n      <td>0</td>\n      <td>0</td>\n      <td>0</td>\n      <td>0</td>\n    </tr>\n    <tr>\n      <th>...</th>\n      <td>...</td>\n      <td>...</td>\n      <td>...</td>\n      <td>...</td>\n      <td>...</td>\n      <td>...</td>\n      <td>...</td>\n      <td>...</td>\n      <td>...</td>\n      <td>...</td>\n      <td>...</td>\n      <td>...</td>\n      <td>...</td>\n      <td>...</td>\n      <td>...</td>\n      <td>...</td>\n      <td>...</td>\n      <td>...</td>\n      <td>...</td>\n      <td>...</td>\n      <td>...</td>\n    </tr>\n    <tr>\n      <th>13861</th>\n      <td>-1.0</td>\n      <td>-13.0</td>\n      <td>4.428571</td>\n      <td>-2.500000</td>\n      <td>7.0</td>\n      <td>2.0</td>\n      <td>11.857143</td>\n      <td>7.214286</td>\n      <td>2</td>\n      <td>2019</td>\n      <td>...</td>\n      <td>0</td>\n      <td>0</td>\n      <td>0</td>\n      <td>0</td>\n      <td>0</td>\n      <td>0</td>\n      <td>0</td>\n      <td>0</td>\n      <td>0</td>\n      <td>0</td>\n    </tr>\n    <tr>\n      <th>13862</th>\n      <td>-1.0</td>\n      <td>-13.0</td>\n      <td>4.428571</td>\n      <td>-2.500000</td>\n      <td>7.0</td>\n      <td>2.0</td>\n      <td>11.857143</td>\n      <td>7.214286</td>\n      <td>2</td>\n      <td>2019</td>\n      <td>...</td>\n      <td>0</td>\n      <td>0</td>\n      <td>0</td>\n      <td>0</td>\n      <td>0</td>\n      <td>0</td>\n      <td>0</td>\n      <td>0</td>\n      <td>0</td>\n      <td>0</td>\n    </tr>\n    <tr>\n      <th>13863</th>\n      <td>-1.0</td>\n      <td>-13.0</td>\n      <td>4.428571</td>\n      <td>-2.500000</td>\n      <td>7.0</td>\n      <td>2.0</td>\n      <td>11.857143</td>\n      <td>7.214286</td>\n      <td>2</td>\n      <td>2019</td>\n      <td>...</td>\n      <td>0</td>\n      <td>0</td>\n      <td>0</td>\n      <td>0</td>\n      <td>0</td>\n      <td>0</td>\n      <td>0</td>\n      <td>0</td>\n      <td>0</td>\n      <td>0</td>\n    </tr>\n    <tr>\n      <th>13864</th>\n      <td>32.0</td>\n      <td>-15.0</td>\n      <td>0.428571</td>\n      <td>3.571429</td>\n      <td>11.0</td>\n      <td>-5.0</td>\n      <td>6.428571</td>\n      <td>10.571429</td>\n      <td>3</td>\n      <td>2018</td>\n      <td>...</td>\n      <td>0</td>\n      <td>0</td>\n      <td>0</td>\n      <td>0</td>\n      <td>0</td>\n      <td>0</td>\n      <td>0</td>\n      <td>0</td>\n      <td>0</td>\n      <td>0</td>\n    </tr>\n    <tr>\n      <th>13865</th>\n      <td>32.0</td>\n      <td>-15.0</td>\n      <td>0.428571</td>\n      <td>3.571429</td>\n      <td>11.0</td>\n      <td>-5.0</td>\n      <td>6.428571</td>\n      <td>10.571429</td>\n      <td>3</td>\n      <td>2018</td>\n      <td>...</td>\n      <td>0</td>\n      <td>0</td>\n      <td>0</td>\n      <td>0</td>\n      <td>0</td>\n      <td>0</td>\n      <td>0</td>\n      <td>0</td>\n      <td>0</td>\n      <td>0</td>\n    </tr>\n  </tbody>\n</table>\n<p>13866 rows × 185 columns</p>\n</div>"
     },
     "metadata": {},
     "execution_count": 32
    }
   ],
   "source": [
    "reg_test_sample"
   ]
  },
  {
   "cell_type": "code",
   "execution_count": 33,
   "metadata": {},
   "outputs": [],
   "source": [
    "from sklearn.decomposition import PCA\n",
    "from sklearn.preprocessing import StandardScaler\n",
    "scaler = StandardScaler()\n",
    "NumPercent = scaler.fit_transform(reg_test_sample[['arr_delay7', 'arr_delay14', 'arr_rolling7',\n",
    "       'arr_rolling14', 'dep_delay7', 'dep_delay14', 'dep_rolling7',\n",
    "       'dep_rolling14', 'quarter', 'year', 'month', 'day', 'avg_delay_carrier',\n",
    "       'avg_delay_origin_quart', 'avg_delay_dest_quart', 'hour_only_dep',\n",
    "       'hour_only_arr', 'time_period_dep', 'time_period_arr',\n",
    "       'traffic_origin_port', 'traffic_dest_port', 'distance_encoded',\n",
    "       'avg_delay_distance', 'dep_time_traffic',\n",
    "       'arr_time_traffic', 'weather_og_quarter', 'weather_dest_quarter',\n",
    "       'weather_og_period', 'weather_dest_period', 'weather_og_delay',\n",
    "       'weather_dest_delay']])"
   ]
  },
  {
   "cell_type": "code",
   "execution_count": 34,
   "metadata": {},
   "outputs": [
    {
     "output_type": "execute_result",
     "data": {
      "text/plain": [
       "   arr_delay7  arr_delay14  arr_rolling7  arr_rolling14  dep_delay7  \\\n",
       "0   -0.091634    -0.337571     -0.245750      -0.322913   -0.207221   \n",
       "1   -0.402866     0.368295      0.198135       0.244715   -0.271512   \n",
       "2   -0.091634    -0.337571     -0.245750      -0.322913   -0.207221   \n",
       "3   -0.402866     0.368295      0.198135       0.244715   -0.271512   \n",
       "4   -0.091634    -0.337571     -0.245750      -0.322913   -0.207221   \n",
       "\n",
       "   dep_delay14  dep_rolling7  dep_rolling14   quarter      year  ...  \\\n",
       "0    -0.484469     -0.269071      -0.473808 -1.275684  1.081958  ...   \n",
       "1     0.004054     -0.124030      -0.172745 -1.275684  1.081958  ...   \n",
       "2    -0.484469     -0.269071      -0.473808 -1.275684  1.081958  ...   \n",
       "3     0.004054     -0.124030      -0.172745 -1.275684  1.081958  ...   \n",
       "4    -0.484469     -0.269071      -0.473808 -1.275684  1.081958  ...   \n",
       "\n",
       "   distance_encoded  avg_delay_distance  dep_time_traffic  arr_time_traffic  \\\n",
       "0         -0.731695            0.731695          0.725609         -0.575195   \n",
       "1         -0.731695            0.731695          0.725609         -0.575195   \n",
       "2         -0.731695            0.731695          0.725609         -0.575195   \n",
       "3         -0.731695            0.731695          0.725609         -0.575195   \n",
       "4         -0.731695            0.731695          0.725609         -0.575195   \n",
       "\n",
       "   weather_og_quarter  weather_dest_quarter  weather_og_period  \\\n",
       "0            0.383926             -1.287084           0.599303   \n",
       "1            0.383926             -1.287084           0.599303   \n",
       "2            0.383926             -1.287084           0.599303   \n",
       "3            0.383926             -1.287084           0.599303   \n",
       "4            0.383926             -1.287084           0.599303   \n",
       "\n",
       "   weather_dest_period  weather_og_delay  weather_dest_delay  \n",
       "0            -0.721869          0.052411           -1.068394  \n",
       "1            -0.721869          0.052411           -1.068394  \n",
       "2            -0.721869          0.052411           -1.068394  \n",
       "3            -0.721869          0.052411           -1.068394  \n",
       "4            -0.721869          0.052411           -1.068394  \n",
       "\n",
       "[5 rows x 31 columns]"
      ],
      "text/html": "<div>\n<style scoped>\n    .dataframe tbody tr th:only-of-type {\n        vertical-align: middle;\n    }\n\n    .dataframe tbody tr th {\n        vertical-align: top;\n    }\n\n    .dataframe thead th {\n        text-align: right;\n    }\n</style>\n<table border=\"1\" class=\"dataframe\">\n  <thead>\n    <tr style=\"text-align: right;\">\n      <th></th>\n      <th>arr_delay7</th>\n      <th>arr_delay14</th>\n      <th>arr_rolling7</th>\n      <th>arr_rolling14</th>\n      <th>dep_delay7</th>\n      <th>dep_delay14</th>\n      <th>dep_rolling7</th>\n      <th>dep_rolling14</th>\n      <th>quarter</th>\n      <th>year</th>\n      <th>...</th>\n      <th>distance_encoded</th>\n      <th>avg_delay_distance</th>\n      <th>dep_time_traffic</th>\n      <th>arr_time_traffic</th>\n      <th>weather_og_quarter</th>\n      <th>weather_dest_quarter</th>\n      <th>weather_og_period</th>\n      <th>weather_dest_period</th>\n      <th>weather_og_delay</th>\n      <th>weather_dest_delay</th>\n    </tr>\n  </thead>\n  <tbody>\n    <tr>\n      <th>0</th>\n      <td>-0.091634</td>\n      <td>-0.337571</td>\n      <td>-0.245750</td>\n      <td>-0.322913</td>\n      <td>-0.207221</td>\n      <td>-0.484469</td>\n      <td>-0.269071</td>\n      <td>-0.473808</td>\n      <td>-1.275684</td>\n      <td>1.081958</td>\n      <td>...</td>\n      <td>-0.731695</td>\n      <td>0.731695</td>\n      <td>0.725609</td>\n      <td>-0.575195</td>\n      <td>0.383926</td>\n      <td>-1.287084</td>\n      <td>0.599303</td>\n      <td>-0.721869</td>\n      <td>0.052411</td>\n      <td>-1.068394</td>\n    </tr>\n    <tr>\n      <th>1</th>\n      <td>-0.402866</td>\n      <td>0.368295</td>\n      <td>0.198135</td>\n      <td>0.244715</td>\n      <td>-0.271512</td>\n      <td>0.004054</td>\n      <td>-0.124030</td>\n      <td>-0.172745</td>\n      <td>-1.275684</td>\n      <td>1.081958</td>\n      <td>...</td>\n      <td>-0.731695</td>\n      <td>0.731695</td>\n      <td>0.725609</td>\n      <td>-0.575195</td>\n      <td>0.383926</td>\n      <td>-1.287084</td>\n      <td>0.599303</td>\n      <td>-0.721869</td>\n      <td>0.052411</td>\n      <td>-1.068394</td>\n    </tr>\n    <tr>\n      <th>2</th>\n      <td>-0.091634</td>\n      <td>-0.337571</td>\n      <td>-0.245750</td>\n      <td>-0.322913</td>\n      <td>-0.207221</td>\n      <td>-0.484469</td>\n      <td>-0.269071</td>\n      <td>-0.473808</td>\n      <td>-1.275684</td>\n      <td>1.081958</td>\n      <td>...</td>\n      <td>-0.731695</td>\n      <td>0.731695</td>\n      <td>0.725609</td>\n      <td>-0.575195</td>\n      <td>0.383926</td>\n      <td>-1.287084</td>\n      <td>0.599303</td>\n      <td>-0.721869</td>\n      <td>0.052411</td>\n      <td>-1.068394</td>\n    </tr>\n    <tr>\n      <th>3</th>\n      <td>-0.402866</td>\n      <td>0.368295</td>\n      <td>0.198135</td>\n      <td>0.244715</td>\n      <td>-0.271512</td>\n      <td>0.004054</td>\n      <td>-0.124030</td>\n      <td>-0.172745</td>\n      <td>-1.275684</td>\n      <td>1.081958</td>\n      <td>...</td>\n      <td>-0.731695</td>\n      <td>0.731695</td>\n      <td>0.725609</td>\n      <td>-0.575195</td>\n      <td>0.383926</td>\n      <td>-1.287084</td>\n      <td>0.599303</td>\n      <td>-0.721869</td>\n      <td>0.052411</td>\n      <td>-1.068394</td>\n    </tr>\n    <tr>\n      <th>4</th>\n      <td>-0.091634</td>\n      <td>-0.337571</td>\n      <td>-0.245750</td>\n      <td>-0.322913</td>\n      <td>-0.207221</td>\n      <td>-0.484469</td>\n      <td>-0.269071</td>\n      <td>-0.473808</td>\n      <td>-1.275684</td>\n      <td>1.081958</td>\n      <td>...</td>\n      <td>-0.731695</td>\n      <td>0.731695</td>\n      <td>0.725609</td>\n      <td>-0.575195</td>\n      <td>0.383926</td>\n      <td>-1.287084</td>\n      <td>0.599303</td>\n      <td>-0.721869</td>\n      <td>0.052411</td>\n      <td>-1.068394</td>\n    </tr>\n  </tbody>\n</table>\n<p>5 rows × 31 columns</p>\n</div>"
     },
     "metadata": {},
     "execution_count": 34
    }
   ],
   "source": [
    "reg_test_scaled = pd.DataFrame(NumPercent,columns=['arr_delay7', 'arr_delay14', 'arr_rolling7',\n",
    "       'arr_rolling14', 'dep_delay7', 'dep_delay14', 'dep_rolling7',\n",
    "       'dep_rolling14', 'quarter', 'year', 'month', 'day', 'avg_delay_carrier',\n",
    "       'avg_delay_origin_quart', 'avg_delay_dest_quart', 'hour_only_dep',\n",
    "       'hour_only_arr', 'time_period_dep', 'time_period_arr',\n",
    "       'traffic_origin_port', 'traffic_dest_port', 'distance_encoded',\n",
    "       'avg_delay_distance', 'dep_time_traffic',\n",
    "       'arr_time_traffic', 'weather_og_quarter', 'weather_dest_quarter',\n",
    "       'weather_og_period', 'weather_dest_period', 'weather_og_delay',\n",
    "       'weather_dest_delay'])\n",
    "reg_test_scaled.head()"
   ]
  },
  {
   "cell_type": "code",
   "execution_count": 35,
   "metadata": {},
   "outputs": [],
   "source": [
    "reg_test_sample2 = reg_test_sample.drop(columns=['arr_delay7', 'arr_delay14', 'arr_rolling7',\n",
    "       'arr_rolling14', 'dep_delay7', 'dep_delay14', 'dep_rolling7',\n",
    "       'dep_rolling14', 'quarter', 'year', 'month', 'day', 'avg_delay_carrier',\n",
    "       'avg_delay_origin_quart', 'avg_delay_dest_quart', 'hour_only_dep',\n",
    "       'hour_only_arr', 'time_period_dep', 'time_period_arr',\n",
    "       'traffic_origin_port', 'traffic_dest_port', 'distance_encoded',\n",
    "       'avg_delay_distance', 'dep_time_traffic',\n",
    "       'arr_time_traffic', 'weather_og_quarter', 'weather_dest_quarter',\n",
    "       'weather_og_period', 'weather_dest_period', 'weather_og_delay',\n",
    "       'weather_dest_delay']).copy()"
   ]
  },
  {
   "cell_type": "code",
   "execution_count": 36,
   "metadata": {},
   "outputs": [],
   "source": [
    "reg_test_scaled.reset_index(drop=True, inplace=True)\n",
    "reg_test_sample.reset_index(drop=True, inplace=True)\n",
    "reg_test_PCA = pd.concat([reg_test_sample2,reg_test_scaled],axis=1)"
   ]
  },
  {
   "cell_type": "code",
   "execution_count": 37,
   "metadata": {},
   "outputs": [],
   "source": [
    "reg_test_PCA = reg_test_PCA.fillna(0)"
   ]
  },
  {
   "cell_type": "code",
   "execution_count": 38,
   "metadata": {},
   "outputs": [],
   "source": [
    "pca = PCA(n_components=100)"
   ]
  },
  {
   "cell_type": "code",
   "execution_count": 39,
   "metadata": {},
   "outputs": [],
   "source": [
    "components = pca.fit_transform(reg_test_PCA)"
   ]
  },
  {
   "cell_type": "code",
   "execution_count": 40,
   "metadata": {},
   "outputs": [
    {
     "output_type": "execute_result",
     "data": {
      "text/plain": [
       "array([4.26611427e+00, 3.73628965e+00, 2.55313043e+00, 2.27331746e+00,\n",
       "       2.16164302e+00, 2.09506725e+00, 1.91097248e+00, 1.79401516e+00,\n",
       "       1.69464273e+00, 1.57444668e+00, 1.10989682e+00, 9.92029377e-01,\n",
       "       9.51949564e-01, 9.12081673e-01, 8.66644875e-01, 7.16099365e-01,\n",
       "       5.24476970e-01, 4.11625057e-01, 2.99019143e-01, 2.45505478e-01,\n",
       "       2.25960953e-01, 1.45623413e-01, 1.30745342e-01, 1.26424951e-01,\n",
       "       9.32776817e-02, 9.25147687e-02, 8.45339679e-02, 8.36951117e-02,\n",
       "       7.77244418e-02, 7.39746154e-02, 6.61061678e-02, 6.03294052e-02,\n",
       "       5.49712051e-02, 5.13288016e-02, 4.90671618e-02, 4.67656069e-02,\n",
       "       4.42169393e-02, 4.38981774e-02, 4.23118171e-02, 4.00280273e-02,\n",
       "       3.68444215e-02, 3.62373322e-02, 3.38996771e-02, 3.35309275e-02,\n",
       "       2.98259514e-02, 2.83228747e-02, 2.80473160e-02, 2.70384482e-02,\n",
       "       2.58317152e-02, 2.49878615e-02, 2.39570642e-02, 2.37719783e-02,\n",
       "       2.26589242e-02, 2.12509316e-02, 2.05213267e-02, 1.98427140e-02,\n",
       "       1.84784121e-02, 1.82007470e-02, 1.76105836e-02, 1.66312315e-02,\n",
       "       1.58491437e-02, 1.54668498e-02, 1.48068858e-02, 1.43093647e-02,\n",
       "       1.38905531e-02, 1.36756545e-02, 1.26999592e-02, 1.26635958e-02,\n",
       "       1.18614066e-02, 1.16521415e-02, 1.08393630e-02, 1.05685987e-02,\n",
       "       1.04131333e-02, 1.01049048e-02, 9.66782117e-03, 9.38727982e-03,\n",
       "       9.00331051e-03, 8.39208063e-03, 8.15787590e-03, 8.06493624e-03,\n",
       "       7.66089268e-03, 7.05358527e-03, 6.99272888e-03, 6.66848669e-03,\n",
       "       6.57408948e-03, 6.29082690e-03, 6.19248317e-03, 6.01563324e-03,\n",
       "       5.66497933e-03, 5.58678625e-03, 5.43348876e-03, 5.25899226e-03,\n",
       "       5.15006615e-03, 5.03157567e-03, 4.81844303e-03, 4.68502505e-03,\n",
       "       4.61691108e-03, 4.41691066e-03, 4.29112339e-03, 4.07982217e-03])"
      ]
     },
     "metadata": {},
     "execution_count": 40
    }
   ],
   "source": [
    "pca.explained_variance_"
   ]
  },
  {
   "cell_type": "code",
   "execution_count": 41,
   "metadata": {},
   "outputs": [],
   "source": [
    "import numpy as np\n",
    "import matplotlib.pyplot as plt"
   ]
  },
  {
   "cell_type": "code",
   "execution_count": 42,
   "metadata": {},
   "outputs": [
    {
     "output_type": "display_data",
     "data": {
      "text/plain": "<Figure size 432x288 with 1 Axes>",
      "image/svg+xml": "<?xml version=\"1.0\" encoding=\"utf-8\" standalone=\"no\"?>\n<!DOCTYPE svg PUBLIC \"-//W3C//DTD SVG 1.1//EN\"\n  \"http://www.w3.org/Graphics/SVG/1.1/DTD/svg11.dtd\">\n<!-- Created with matplotlib (https://matplotlib.org/) -->\n<svg height=\"268.195312pt\" version=\"1.1\" viewBox=\"0 0 372.103125 268.195312\" width=\"372.103125pt\" xmlns=\"http://www.w3.org/2000/svg\" xmlns:xlink=\"http://www.w3.org/1999/xlink\">\n <metadata>\n  <rdf:RDF xmlns:cc=\"http://creativecommons.org/ns#\" xmlns:dc=\"http://purl.org/dc/elements/1.1/\" xmlns:rdf=\"http://www.w3.org/1999/02/22-rdf-syntax-ns#\">\n   <cc:Work>\n    <dc:type rdf:resource=\"http://purl.org/dc/dcmitype/StillImage\"/>\n    <dc:date>2020-10-23T20:19:56.260111</dc:date>\n    <dc:format>image/svg+xml</dc:format>\n    <dc:creator>\n     <cc:Agent>\n      <dc:title>Matplotlib v3.3.1, https://matplotlib.org/</dc:title>\n     </cc:Agent>\n    </dc:creator>\n   </cc:Work>\n  </rdf:RDF>\n </metadata>\n <defs>\n  <style type=\"text/css\">*{stroke-linecap:butt;stroke-linejoin:round;}</style>\n </defs>\n <g id=\"figure_1\">\n  <g id=\"patch_1\">\n   <path d=\"M 0 268.195312 \nL 372.103125 268.195312 \nL 372.103125 0 \nL 0 0 \nz\n\" style=\"fill:none;\"/>\n  </g>\n  <g id=\"axes_1\">\n   <g id=\"patch_2\">\n    <path d=\"M 30.103125 244.317187 \nL 364.903125 244.317187 \nL 364.903125 26.877187 \nL 30.103125 26.877187 \nz\n\" style=\"fill:#ffffff;\"/>\n   </g>\n   <g id=\"matplotlib.axis_1\">\n    <g id=\"xtick_1\">\n     <g id=\"line2d_1\">\n      <defs>\n       <path d=\"M 0 0 \nL 0 3.5 \n\" id=\"m34ab335e1e\" style=\"stroke:#000000;stroke-width:0.8;\"/>\n      </defs>\n      <g>\n       <use style=\"stroke:#000000;stroke-width:0.8;\" x=\"42.246927\" xlink:href=\"#m34ab335e1e\" y=\"244.317187\"/>\n      </g>\n     </g>\n     <g id=\"text_1\">\n      <!-- 0 -->\n      <g transform=\"translate(39.065677 258.915625)scale(0.1 -0.1)\">\n       <defs>\n        <path d=\"M 31.78125 66.40625 \nQ 24.171875 66.40625 20.328125 58.90625 \nQ 16.5 51.421875 16.5 36.375 \nQ 16.5 21.390625 20.328125 13.890625 \nQ 24.171875 6.390625 31.78125 6.390625 \nQ 39.453125 6.390625 43.28125 13.890625 \nQ 47.125 21.390625 47.125 36.375 \nQ 47.125 51.421875 43.28125 58.90625 \nQ 39.453125 66.40625 31.78125 66.40625 \nz\nM 31.78125 74.21875 \nQ 44.046875 74.21875 50.515625 64.515625 \nQ 56.984375 54.828125 56.984375 36.375 \nQ 56.984375 17.96875 50.515625 8.265625 \nQ 44.046875 -1.421875 31.78125 -1.421875 \nQ 19.53125 -1.421875 13.0625 8.265625 \nQ 6.59375 17.96875 6.59375 36.375 \nQ 6.59375 54.828125 13.0625 64.515625 \nQ 19.53125 74.21875 31.78125 74.21875 \nz\n\" id=\"DejaVuSans-48\"/>\n       </defs>\n       <use xlink:href=\"#DejaVuSans-48\"/>\n      </g>\n     </g>\n    </g>\n    <g id=\"xtick_2\">\n     <g id=\"line2d_2\">\n      <g>\n       <use style=\"stroke:#000000;stroke-width:0.8;\" x=\"103.73453\" xlink:href=\"#m34ab335e1e\" y=\"244.317187\"/>\n      </g>\n     </g>\n     <g id=\"text_2\">\n      <!-- 20 -->\n      <g transform=\"translate(97.37203 258.915625)scale(0.1 -0.1)\">\n       <defs>\n        <path d=\"M 19.1875 8.296875 \nL 53.609375 8.296875 \nL 53.609375 0 \nL 7.328125 0 \nL 7.328125 8.296875 \nQ 12.9375 14.109375 22.625 23.890625 \nQ 32.328125 33.6875 34.8125 36.53125 \nQ 39.546875 41.84375 41.421875 45.53125 \nQ 43.3125 49.21875 43.3125 52.78125 \nQ 43.3125 58.59375 39.234375 62.25 \nQ 35.15625 65.921875 28.609375 65.921875 \nQ 23.96875 65.921875 18.8125 64.3125 \nQ 13.671875 62.703125 7.8125 59.421875 \nL 7.8125 69.390625 \nQ 13.765625 71.78125 18.9375 73 \nQ 24.125 74.21875 28.421875 74.21875 \nQ 39.75 74.21875 46.484375 68.546875 \nQ 53.21875 62.890625 53.21875 53.421875 \nQ 53.21875 48.921875 51.53125 44.890625 \nQ 49.859375 40.875 45.40625 35.40625 \nQ 44.1875 33.984375 37.640625 27.21875 \nQ 31.109375 20.453125 19.1875 8.296875 \nz\n\" id=\"DejaVuSans-50\"/>\n       </defs>\n       <use xlink:href=\"#DejaVuSans-50\"/>\n       <use x=\"63.623047\" xlink:href=\"#DejaVuSans-48\"/>\n      </g>\n     </g>\n    </g>\n    <g id=\"xtick_3\">\n     <g id=\"line2d_3\">\n      <g>\n       <use style=\"stroke:#000000;stroke-width:0.8;\" x=\"165.222133\" xlink:href=\"#m34ab335e1e\" y=\"244.317187\"/>\n      </g>\n     </g>\n     <g id=\"text_3\">\n      <!-- 40 -->\n      <g transform=\"translate(158.859633 258.915625)scale(0.1 -0.1)\">\n       <defs>\n        <path d=\"M 37.796875 64.3125 \nL 12.890625 25.390625 \nL 37.796875 25.390625 \nz\nM 35.203125 72.90625 \nL 47.609375 72.90625 \nL 47.609375 25.390625 \nL 58.015625 25.390625 \nL 58.015625 17.1875 \nL 47.609375 17.1875 \nL 47.609375 0 \nL 37.796875 0 \nL 37.796875 17.1875 \nL 4.890625 17.1875 \nL 4.890625 26.703125 \nz\n\" id=\"DejaVuSans-52\"/>\n       </defs>\n       <use xlink:href=\"#DejaVuSans-52\"/>\n       <use x=\"63.623047\" xlink:href=\"#DejaVuSans-48\"/>\n      </g>\n     </g>\n    </g>\n    <g id=\"xtick_4\">\n     <g id=\"line2d_4\">\n      <g>\n       <use style=\"stroke:#000000;stroke-width:0.8;\" x=\"226.709737\" xlink:href=\"#m34ab335e1e\" y=\"244.317187\"/>\n      </g>\n     </g>\n     <g id=\"text_4\">\n      <!-- 60 -->\n      <g transform=\"translate(220.347237 258.915625)scale(0.1 -0.1)\">\n       <defs>\n        <path d=\"M 33.015625 40.375 \nQ 26.375 40.375 22.484375 35.828125 \nQ 18.609375 31.296875 18.609375 23.390625 \nQ 18.609375 15.53125 22.484375 10.953125 \nQ 26.375 6.390625 33.015625 6.390625 \nQ 39.65625 6.390625 43.53125 10.953125 \nQ 47.40625 15.53125 47.40625 23.390625 \nQ 47.40625 31.296875 43.53125 35.828125 \nQ 39.65625 40.375 33.015625 40.375 \nz\nM 52.59375 71.296875 \nL 52.59375 62.3125 \nQ 48.875 64.0625 45.09375 64.984375 \nQ 41.3125 65.921875 37.59375 65.921875 \nQ 27.828125 65.921875 22.671875 59.328125 \nQ 17.53125 52.734375 16.796875 39.40625 \nQ 19.671875 43.65625 24.015625 45.921875 \nQ 28.375 48.1875 33.59375 48.1875 \nQ 44.578125 48.1875 50.953125 41.515625 \nQ 57.328125 34.859375 57.328125 23.390625 \nQ 57.328125 12.15625 50.6875 5.359375 \nQ 44.046875 -1.421875 33.015625 -1.421875 \nQ 20.359375 -1.421875 13.671875 8.265625 \nQ 6.984375 17.96875 6.984375 36.375 \nQ 6.984375 53.65625 15.1875 63.9375 \nQ 23.390625 74.21875 37.203125 74.21875 \nQ 40.921875 74.21875 44.703125 73.484375 \nQ 48.484375 72.75 52.59375 71.296875 \nz\n\" id=\"DejaVuSans-54\"/>\n       </defs>\n       <use xlink:href=\"#DejaVuSans-54\"/>\n       <use x=\"63.623047\" xlink:href=\"#DejaVuSans-48\"/>\n      </g>\n     </g>\n    </g>\n    <g id=\"xtick_5\">\n     <g id=\"line2d_5\">\n      <g>\n       <use style=\"stroke:#000000;stroke-width:0.8;\" x=\"288.19734\" xlink:href=\"#m34ab335e1e\" y=\"244.317187\"/>\n      </g>\n     </g>\n     <g id=\"text_5\">\n      <!-- 80 -->\n      <g transform=\"translate(281.83484 258.915625)scale(0.1 -0.1)\">\n       <defs>\n        <path d=\"M 31.78125 34.625 \nQ 24.75 34.625 20.71875 30.859375 \nQ 16.703125 27.09375 16.703125 20.515625 \nQ 16.703125 13.921875 20.71875 10.15625 \nQ 24.75 6.390625 31.78125 6.390625 \nQ 38.8125 6.390625 42.859375 10.171875 \nQ 46.921875 13.96875 46.921875 20.515625 \nQ 46.921875 27.09375 42.890625 30.859375 \nQ 38.875 34.625 31.78125 34.625 \nz\nM 21.921875 38.8125 \nQ 15.578125 40.375 12.03125 44.71875 \nQ 8.5 49.078125 8.5 55.328125 \nQ 8.5 64.0625 14.71875 69.140625 \nQ 20.953125 74.21875 31.78125 74.21875 \nQ 42.671875 74.21875 48.875 69.140625 \nQ 55.078125 64.0625 55.078125 55.328125 \nQ 55.078125 49.078125 51.53125 44.71875 \nQ 48 40.375 41.703125 38.8125 \nQ 48.828125 37.15625 52.796875 32.3125 \nQ 56.78125 27.484375 56.78125 20.515625 \nQ 56.78125 9.90625 50.3125 4.234375 \nQ 43.84375 -1.421875 31.78125 -1.421875 \nQ 19.734375 -1.421875 13.25 4.234375 \nQ 6.78125 9.90625 6.78125 20.515625 \nQ 6.78125 27.484375 10.78125 32.3125 \nQ 14.796875 37.15625 21.921875 38.8125 \nz\nM 18.3125 54.390625 \nQ 18.3125 48.734375 21.84375 45.5625 \nQ 25.390625 42.390625 31.78125 42.390625 \nQ 38.140625 42.390625 41.71875 45.5625 \nQ 45.3125 48.734375 45.3125 54.390625 \nQ 45.3125 60.0625 41.71875 63.234375 \nQ 38.140625 66.40625 31.78125 66.40625 \nQ 25.390625 66.40625 21.84375 63.234375 \nQ 18.3125 60.0625 18.3125 54.390625 \nz\n\" id=\"DejaVuSans-56\"/>\n       </defs>\n       <use xlink:href=\"#DejaVuSans-56\"/>\n       <use x=\"63.623047\" xlink:href=\"#DejaVuSans-48\"/>\n      </g>\n     </g>\n    </g>\n    <g id=\"xtick_6\">\n     <g id=\"line2d_6\">\n      <g>\n       <use style=\"stroke:#000000;stroke-width:0.8;\" x=\"349.684943\" xlink:href=\"#m34ab335e1e\" y=\"244.317187\"/>\n      </g>\n     </g>\n     <g id=\"text_6\">\n      <!-- 100 -->\n      <g transform=\"translate(340.141193 258.915625)scale(0.1 -0.1)\">\n       <defs>\n        <path d=\"M 12.40625 8.296875 \nL 28.515625 8.296875 \nL 28.515625 63.921875 \nL 10.984375 60.40625 \nL 10.984375 69.390625 \nL 28.421875 72.90625 \nL 38.28125 72.90625 \nL 38.28125 8.296875 \nL 54.390625 8.296875 \nL 54.390625 0 \nL 12.40625 0 \nz\n\" id=\"DejaVuSans-49\"/>\n       </defs>\n       <use xlink:href=\"#DejaVuSans-49\"/>\n       <use x=\"63.623047\" xlink:href=\"#DejaVuSans-48\"/>\n       <use x=\"127.246094\" xlink:href=\"#DejaVuSans-48\"/>\n      </g>\n     </g>\n    </g>\n   </g>\n   <g id=\"matplotlib.axis_2\">\n    <g id=\"ytick_1\">\n     <g id=\"line2d_7\">\n      <defs>\n       <path d=\"M 0 0 \nL -3.5 0 \n\" id=\"m666d1b40df\" style=\"stroke:#000000;stroke-width:0.8;\"/>\n      </defs>\n      <g>\n       <use style=\"stroke:#000000;stroke-width:0.8;\" x=\"30.103125\" xlink:href=\"#m666d1b40df\" y=\"217.720313\"/>\n      </g>\n     </g>\n     <g id=\"text_7\">\n      <!-- 0.2 -->\n      <g transform=\"translate(7.2 221.519532)scale(0.1 -0.1)\">\n       <defs>\n        <path d=\"M 10.6875 12.40625 \nL 21 12.40625 \nL 21 0 \nL 10.6875 0 \nz\n\" id=\"DejaVuSans-46\"/>\n       </defs>\n       <use xlink:href=\"#DejaVuSans-48\"/>\n       <use x=\"63.623047\" xlink:href=\"#DejaVuSans-46\"/>\n       <use x=\"95.410156\" xlink:href=\"#DejaVuSans-50\"/>\n      </g>\n     </g>\n    </g>\n    <g id=\"ytick_2\">\n     <g id=\"line2d_8\">\n      <g>\n       <use style=\"stroke:#000000;stroke-width:0.8;\" x=\"30.103125\" xlink:href=\"#m666d1b40df\" y=\"172.233354\"/>\n      </g>\n     </g>\n     <g id=\"text_8\">\n      <!-- 0.4 -->\n      <g transform=\"translate(7.2 176.032573)scale(0.1 -0.1)\">\n       <use xlink:href=\"#DejaVuSans-48\"/>\n       <use x=\"63.623047\" xlink:href=\"#DejaVuSans-46\"/>\n       <use x=\"95.410156\" xlink:href=\"#DejaVuSans-52\"/>\n      </g>\n     </g>\n    </g>\n    <g id=\"ytick_3\">\n     <g id=\"line2d_9\">\n      <g>\n       <use style=\"stroke:#000000;stroke-width:0.8;\" x=\"30.103125\" xlink:href=\"#m666d1b40df\" y=\"126.746395\"/>\n      </g>\n     </g>\n     <g id=\"text_9\">\n      <!-- 0.6 -->\n      <g transform=\"translate(7.2 130.545614)scale(0.1 -0.1)\">\n       <use xlink:href=\"#DejaVuSans-48\"/>\n       <use x=\"63.623047\" xlink:href=\"#DejaVuSans-46\"/>\n       <use x=\"95.410156\" xlink:href=\"#DejaVuSans-54\"/>\n      </g>\n     </g>\n    </g>\n    <g id=\"ytick_4\">\n     <g id=\"line2d_10\">\n      <g>\n       <use style=\"stroke:#000000;stroke-width:0.8;\" x=\"30.103125\" xlink:href=\"#m666d1b40df\" y=\"81.259437\"/>\n      </g>\n     </g>\n     <g id=\"text_10\">\n      <!-- 0.8 -->\n      <g transform=\"translate(7.2 85.058655)scale(0.1 -0.1)\">\n       <use xlink:href=\"#DejaVuSans-48\"/>\n       <use x=\"63.623047\" xlink:href=\"#DejaVuSans-46\"/>\n       <use x=\"95.410156\" xlink:href=\"#DejaVuSans-56\"/>\n      </g>\n     </g>\n    </g>\n    <g id=\"ytick_5\">\n     <g id=\"line2d_11\">\n      <g>\n       <use style=\"stroke:#000000;stroke-width:0.8;\" x=\"30.103125\" xlink:href=\"#m666d1b40df\" y=\"35.772478\"/>\n      </g>\n     </g>\n     <g id=\"text_11\">\n      <!-- 1.0 -->\n      <g transform=\"translate(7.2 39.571697)scale(0.1 -0.1)\">\n       <use xlink:href=\"#DejaVuSans-49\"/>\n       <use x=\"63.623047\" xlink:href=\"#DejaVuSans-46\"/>\n       <use x=\"95.410156\" xlink:href=\"#DejaVuSans-48\"/>\n      </g>\n     </g>\n    </g>\n   </g>\n   <g id=\"line2d_12\">\n    <path clip-path=\"url(#p8ceda69a2b)\" d=\"M 45.321307 234.433551 \nL 48.395687 209.233346 \nL 51.470067 192.013212 \nL 54.544447 176.680336 \nL 57.618827 162.100672 \nL 60.693208 147.970042 \nL 63.767588 135.08108 \nL 66.841968 122.980961 \nL 69.916348 111.55108 \nL 72.990728 100.931887 \nL 76.065108 93.445951 \nL 79.139489 86.754997 \nL 82.213869 80.334369 \nL 85.288249 74.182639 \nL 88.362629 68.337367 \nL 91.437009 63.507482 \nL 94.511389 59.970035 \nL 97.58577 57.193741 \nL 100.66015 55.176943 \nL 103.73453 53.521079 \nL 106.80891 51.997037 \nL 109.88329 51.014848 \nL 112.95767 50.133008 \nL 116.032051 49.280308 \nL 119.106431 48.651177 \nL 122.180811 48.027191 \nL 125.255191 47.457034 \nL 128.329571 46.892534 \nL 131.403951 46.368305 \nL 134.478332 45.869368 \nL 137.552712 45.4235 \nL 140.627092 45.016596 \nL 143.701472 44.645831 \nL 146.775852 44.299633 \nL 149.850232 43.968689 \nL 152.924613 43.653268 \nL 155.998993 43.355037 \nL 159.073373 43.058957 \nL 162.147753 42.773576 \nL 165.222133 42.503598 \nL 168.296513 42.255093 \nL 171.370894 42.010683 \nL 174.445274 41.782039 \nL 177.519654 41.555882 \nL 180.594034 41.354715 \nL 183.668414 41.163685 \nL 186.742794 40.974514 \nL 189.817175 40.792147 \nL 192.891555 40.61792 \nL 195.965935 40.449384 \nL 199.040315 40.2878 \nL 202.114695 40.127465 \nL 205.189075 39.974637 \nL 208.263456 39.831306 \nL 211.337836 39.692895 \nL 214.412216 39.559062 \nL 217.486596 39.43443 \nL 220.560976 39.311671 \nL 223.635356 39.192893 \nL 226.709737 39.08072 \nL 229.784117 38.973822 \nL 232.858497 38.869503 \nL 235.932877 38.769635 \nL 239.007257 38.673122 \nL 242.081637 38.579434 \nL 245.156018 38.487196 \nL 248.230398 38.401538 \nL 251.304778 38.316126 \nL 254.379158 38.236124 \nL 257.453538 38.157534 \nL 260.527918 38.084425 \nL 263.602299 38.013143 \nL 266.676679 37.94291 \nL 269.751059 37.874755 \nL 272.825439 37.809548 \nL 275.899819 37.746234 \nL 278.974199 37.685509 \nL 282.04858 37.628907 \nL 285.12296 37.573884 \nL 288.19734 37.519489 \nL 291.27172 37.467818 \nL 294.3461 37.420244 \nL 297.42048 37.37308 \nL 300.494861 37.328103 \nL 303.569241 37.283762 \nL 306.643621 37.241332 \nL 309.718001 37.199566 \nL 312.792381 37.158992 \nL 315.866761 37.120783 \nL 318.941142 37.083102 \nL 322.015522 37.046455 \nL 325.089902 37.010984 \nL 328.164282 36.976249 \nL 331.238662 36.942312 \nL 334.313042 36.909813 \nL 337.387423 36.878214 \nL 340.461803 36.847074 \nL 343.536183 36.817283 \nL 346.610563 36.788341 \nL 349.684943 36.760824 \n\" style=\"fill:none;stroke:#1f77b4;stroke-linecap:square;stroke-width:1.5;\"/>\n    <defs>\n     <path d=\"M 0 3 \nC 0.795609 3 1.55874 2.683901 2.12132 2.12132 \nC 2.683901 1.55874 3 0.795609 3 0 \nC 3 -0.795609 2.683901 -1.55874 2.12132 -2.12132 \nC 1.55874 -2.683901 0.795609 -3 0 -3 \nC -0.795609 -3 -1.55874 -2.683901 -2.12132 -2.12132 \nC -2.683901 -1.55874 -3 -0.795609 -3 0 \nC -3 0.795609 -2.683901 1.55874 -2.12132 2.12132 \nC -1.55874 2.683901 -0.795609 3 0 3 \nz\n\" id=\"m9ebea5c88a\" style=\"stroke:#1f77b4;\"/>\n    </defs>\n    <g clip-path=\"url(#p8ceda69a2b)\">\n     <use style=\"fill:#1f77b4;stroke:#1f77b4;\" x=\"45.321307\" xlink:href=\"#m9ebea5c88a\" y=\"234.433551\"/>\n     <use style=\"fill:#1f77b4;stroke:#1f77b4;\" x=\"48.395687\" xlink:href=\"#m9ebea5c88a\" y=\"209.233346\"/>\n     <use style=\"fill:#1f77b4;stroke:#1f77b4;\" x=\"51.470067\" xlink:href=\"#m9ebea5c88a\" y=\"192.013212\"/>\n     <use style=\"fill:#1f77b4;stroke:#1f77b4;\" x=\"54.544447\" xlink:href=\"#m9ebea5c88a\" y=\"176.680336\"/>\n     <use style=\"fill:#1f77b4;stroke:#1f77b4;\" x=\"57.618827\" xlink:href=\"#m9ebea5c88a\" y=\"162.100672\"/>\n     <use style=\"fill:#1f77b4;stroke:#1f77b4;\" x=\"60.693208\" xlink:href=\"#m9ebea5c88a\" y=\"147.970042\"/>\n     <use style=\"fill:#1f77b4;stroke:#1f77b4;\" x=\"63.767588\" xlink:href=\"#m9ebea5c88a\" y=\"135.08108\"/>\n     <use style=\"fill:#1f77b4;stroke:#1f77b4;\" x=\"66.841968\" xlink:href=\"#m9ebea5c88a\" y=\"122.980961\"/>\n     <use style=\"fill:#1f77b4;stroke:#1f77b4;\" x=\"69.916348\" xlink:href=\"#m9ebea5c88a\" y=\"111.55108\"/>\n     <use style=\"fill:#1f77b4;stroke:#1f77b4;\" x=\"72.990728\" xlink:href=\"#m9ebea5c88a\" y=\"100.931887\"/>\n     <use style=\"fill:#1f77b4;stroke:#1f77b4;\" x=\"76.065108\" xlink:href=\"#m9ebea5c88a\" y=\"93.445951\"/>\n     <use style=\"fill:#1f77b4;stroke:#1f77b4;\" x=\"79.139489\" xlink:href=\"#m9ebea5c88a\" y=\"86.754997\"/>\n     <use style=\"fill:#1f77b4;stroke:#1f77b4;\" x=\"82.213869\" xlink:href=\"#m9ebea5c88a\" y=\"80.334369\"/>\n     <use style=\"fill:#1f77b4;stroke:#1f77b4;\" x=\"85.288249\" xlink:href=\"#m9ebea5c88a\" y=\"74.182639\"/>\n     <use style=\"fill:#1f77b4;stroke:#1f77b4;\" x=\"88.362629\" xlink:href=\"#m9ebea5c88a\" y=\"68.337367\"/>\n     <use style=\"fill:#1f77b4;stroke:#1f77b4;\" x=\"91.437009\" xlink:href=\"#m9ebea5c88a\" y=\"63.507482\"/>\n     <use style=\"fill:#1f77b4;stroke:#1f77b4;\" x=\"94.511389\" xlink:href=\"#m9ebea5c88a\" y=\"59.970035\"/>\n     <use style=\"fill:#1f77b4;stroke:#1f77b4;\" x=\"97.58577\" xlink:href=\"#m9ebea5c88a\" y=\"57.193741\"/>\n     <use style=\"fill:#1f77b4;stroke:#1f77b4;\" x=\"100.66015\" xlink:href=\"#m9ebea5c88a\" y=\"55.176943\"/>\n     <use style=\"fill:#1f77b4;stroke:#1f77b4;\" x=\"103.73453\" xlink:href=\"#m9ebea5c88a\" y=\"53.521079\"/>\n     <use style=\"fill:#1f77b4;stroke:#1f77b4;\" x=\"106.80891\" xlink:href=\"#m9ebea5c88a\" y=\"51.997037\"/>\n     <use style=\"fill:#1f77b4;stroke:#1f77b4;\" x=\"109.88329\" xlink:href=\"#m9ebea5c88a\" y=\"51.014848\"/>\n     <use style=\"fill:#1f77b4;stroke:#1f77b4;\" x=\"112.95767\" xlink:href=\"#m9ebea5c88a\" y=\"50.133008\"/>\n     <use style=\"fill:#1f77b4;stroke:#1f77b4;\" x=\"116.032051\" xlink:href=\"#m9ebea5c88a\" y=\"49.280308\"/>\n     <use style=\"fill:#1f77b4;stroke:#1f77b4;\" x=\"119.106431\" xlink:href=\"#m9ebea5c88a\" y=\"48.651177\"/>\n     <use style=\"fill:#1f77b4;stroke:#1f77b4;\" x=\"122.180811\" xlink:href=\"#m9ebea5c88a\" y=\"48.027191\"/>\n     <use style=\"fill:#1f77b4;stroke:#1f77b4;\" x=\"125.255191\" xlink:href=\"#m9ebea5c88a\" y=\"47.457034\"/>\n     <use style=\"fill:#1f77b4;stroke:#1f77b4;\" x=\"128.329571\" xlink:href=\"#m9ebea5c88a\" y=\"46.892534\"/>\n     <use style=\"fill:#1f77b4;stroke:#1f77b4;\" x=\"131.403951\" xlink:href=\"#m9ebea5c88a\" y=\"46.368305\"/>\n     <use style=\"fill:#1f77b4;stroke:#1f77b4;\" x=\"134.478332\" xlink:href=\"#m9ebea5c88a\" y=\"45.869368\"/>\n     <use style=\"fill:#1f77b4;stroke:#1f77b4;\" x=\"137.552712\" xlink:href=\"#m9ebea5c88a\" y=\"45.4235\"/>\n     <use style=\"fill:#1f77b4;stroke:#1f77b4;\" x=\"140.627092\" xlink:href=\"#m9ebea5c88a\" y=\"45.016596\"/>\n     <use style=\"fill:#1f77b4;stroke:#1f77b4;\" x=\"143.701472\" xlink:href=\"#m9ebea5c88a\" y=\"44.645831\"/>\n     <use style=\"fill:#1f77b4;stroke:#1f77b4;\" x=\"146.775852\" xlink:href=\"#m9ebea5c88a\" y=\"44.299633\"/>\n     <use style=\"fill:#1f77b4;stroke:#1f77b4;\" x=\"149.850232\" xlink:href=\"#m9ebea5c88a\" y=\"43.968689\"/>\n     <use style=\"fill:#1f77b4;stroke:#1f77b4;\" x=\"152.924613\" xlink:href=\"#m9ebea5c88a\" y=\"43.653268\"/>\n     <use style=\"fill:#1f77b4;stroke:#1f77b4;\" x=\"155.998993\" xlink:href=\"#m9ebea5c88a\" y=\"43.355037\"/>\n     <use style=\"fill:#1f77b4;stroke:#1f77b4;\" x=\"159.073373\" xlink:href=\"#m9ebea5c88a\" y=\"43.058957\"/>\n     <use style=\"fill:#1f77b4;stroke:#1f77b4;\" x=\"162.147753\" xlink:href=\"#m9ebea5c88a\" y=\"42.773576\"/>\n     <use style=\"fill:#1f77b4;stroke:#1f77b4;\" x=\"165.222133\" xlink:href=\"#m9ebea5c88a\" y=\"42.503598\"/>\n     <use style=\"fill:#1f77b4;stroke:#1f77b4;\" x=\"168.296513\" xlink:href=\"#m9ebea5c88a\" y=\"42.255093\"/>\n     <use style=\"fill:#1f77b4;stroke:#1f77b4;\" x=\"171.370894\" xlink:href=\"#m9ebea5c88a\" y=\"42.010683\"/>\n     <use style=\"fill:#1f77b4;stroke:#1f77b4;\" x=\"174.445274\" xlink:href=\"#m9ebea5c88a\" y=\"41.782039\"/>\n     <use style=\"fill:#1f77b4;stroke:#1f77b4;\" x=\"177.519654\" xlink:href=\"#m9ebea5c88a\" y=\"41.555882\"/>\n     <use style=\"fill:#1f77b4;stroke:#1f77b4;\" x=\"180.594034\" xlink:href=\"#m9ebea5c88a\" y=\"41.354715\"/>\n     <use style=\"fill:#1f77b4;stroke:#1f77b4;\" x=\"183.668414\" xlink:href=\"#m9ebea5c88a\" y=\"41.163685\"/>\n     <use style=\"fill:#1f77b4;stroke:#1f77b4;\" x=\"186.742794\" xlink:href=\"#m9ebea5c88a\" y=\"40.974514\"/>\n     <use style=\"fill:#1f77b4;stroke:#1f77b4;\" x=\"189.817175\" xlink:href=\"#m9ebea5c88a\" y=\"40.792147\"/>\n     <use style=\"fill:#1f77b4;stroke:#1f77b4;\" x=\"192.891555\" xlink:href=\"#m9ebea5c88a\" y=\"40.61792\"/>\n     <use style=\"fill:#1f77b4;stroke:#1f77b4;\" x=\"195.965935\" xlink:href=\"#m9ebea5c88a\" y=\"40.449384\"/>\n     <use style=\"fill:#1f77b4;stroke:#1f77b4;\" x=\"199.040315\" xlink:href=\"#m9ebea5c88a\" y=\"40.2878\"/>\n     <use style=\"fill:#1f77b4;stroke:#1f77b4;\" x=\"202.114695\" xlink:href=\"#m9ebea5c88a\" y=\"40.127465\"/>\n     <use style=\"fill:#1f77b4;stroke:#1f77b4;\" x=\"205.189075\" xlink:href=\"#m9ebea5c88a\" y=\"39.974637\"/>\n     <use style=\"fill:#1f77b4;stroke:#1f77b4;\" x=\"208.263456\" xlink:href=\"#m9ebea5c88a\" y=\"39.831306\"/>\n     <use style=\"fill:#1f77b4;stroke:#1f77b4;\" x=\"211.337836\" xlink:href=\"#m9ebea5c88a\" y=\"39.692895\"/>\n     <use style=\"fill:#1f77b4;stroke:#1f77b4;\" x=\"214.412216\" xlink:href=\"#m9ebea5c88a\" y=\"39.559062\"/>\n     <use style=\"fill:#1f77b4;stroke:#1f77b4;\" x=\"217.486596\" xlink:href=\"#m9ebea5c88a\" y=\"39.43443\"/>\n     <use style=\"fill:#1f77b4;stroke:#1f77b4;\" x=\"220.560976\" xlink:href=\"#m9ebea5c88a\" y=\"39.311671\"/>\n     <use style=\"fill:#1f77b4;stroke:#1f77b4;\" x=\"223.635356\" xlink:href=\"#m9ebea5c88a\" y=\"39.192893\"/>\n     <use style=\"fill:#1f77b4;stroke:#1f77b4;\" x=\"226.709737\" xlink:href=\"#m9ebea5c88a\" y=\"39.08072\"/>\n     <use style=\"fill:#1f77b4;stroke:#1f77b4;\" x=\"229.784117\" xlink:href=\"#m9ebea5c88a\" y=\"38.973822\"/>\n     <use style=\"fill:#1f77b4;stroke:#1f77b4;\" x=\"232.858497\" xlink:href=\"#m9ebea5c88a\" y=\"38.869503\"/>\n     <use style=\"fill:#1f77b4;stroke:#1f77b4;\" x=\"235.932877\" xlink:href=\"#m9ebea5c88a\" y=\"38.769635\"/>\n     <use style=\"fill:#1f77b4;stroke:#1f77b4;\" x=\"239.007257\" xlink:href=\"#m9ebea5c88a\" y=\"38.673122\"/>\n     <use style=\"fill:#1f77b4;stroke:#1f77b4;\" x=\"242.081637\" xlink:href=\"#m9ebea5c88a\" y=\"38.579434\"/>\n     <use style=\"fill:#1f77b4;stroke:#1f77b4;\" x=\"245.156018\" xlink:href=\"#m9ebea5c88a\" y=\"38.487196\"/>\n     <use style=\"fill:#1f77b4;stroke:#1f77b4;\" x=\"248.230398\" xlink:href=\"#m9ebea5c88a\" y=\"38.401538\"/>\n     <use style=\"fill:#1f77b4;stroke:#1f77b4;\" x=\"251.304778\" xlink:href=\"#m9ebea5c88a\" y=\"38.316126\"/>\n     <use style=\"fill:#1f77b4;stroke:#1f77b4;\" x=\"254.379158\" xlink:href=\"#m9ebea5c88a\" y=\"38.236124\"/>\n     <use style=\"fill:#1f77b4;stroke:#1f77b4;\" x=\"257.453538\" xlink:href=\"#m9ebea5c88a\" y=\"38.157534\"/>\n     <use style=\"fill:#1f77b4;stroke:#1f77b4;\" x=\"260.527918\" xlink:href=\"#m9ebea5c88a\" y=\"38.084425\"/>\n     <use style=\"fill:#1f77b4;stroke:#1f77b4;\" x=\"263.602299\" xlink:href=\"#m9ebea5c88a\" y=\"38.013143\"/>\n     <use style=\"fill:#1f77b4;stroke:#1f77b4;\" x=\"266.676679\" xlink:href=\"#m9ebea5c88a\" y=\"37.94291\"/>\n     <use style=\"fill:#1f77b4;stroke:#1f77b4;\" x=\"269.751059\" xlink:href=\"#m9ebea5c88a\" y=\"37.874755\"/>\n     <use style=\"fill:#1f77b4;stroke:#1f77b4;\" x=\"272.825439\" xlink:href=\"#m9ebea5c88a\" y=\"37.809548\"/>\n     <use style=\"fill:#1f77b4;stroke:#1f77b4;\" x=\"275.899819\" xlink:href=\"#m9ebea5c88a\" y=\"37.746234\"/>\n     <use style=\"fill:#1f77b4;stroke:#1f77b4;\" x=\"278.974199\" xlink:href=\"#m9ebea5c88a\" y=\"37.685509\"/>\n     <use style=\"fill:#1f77b4;stroke:#1f77b4;\" x=\"282.04858\" xlink:href=\"#m9ebea5c88a\" y=\"37.628907\"/>\n     <use style=\"fill:#1f77b4;stroke:#1f77b4;\" x=\"285.12296\" xlink:href=\"#m9ebea5c88a\" y=\"37.573884\"/>\n     <use style=\"fill:#1f77b4;stroke:#1f77b4;\" x=\"288.19734\" xlink:href=\"#m9ebea5c88a\" y=\"37.519489\"/>\n     <use style=\"fill:#1f77b4;stroke:#1f77b4;\" x=\"291.27172\" xlink:href=\"#m9ebea5c88a\" y=\"37.467818\"/>\n     <use style=\"fill:#1f77b4;stroke:#1f77b4;\" x=\"294.3461\" xlink:href=\"#m9ebea5c88a\" y=\"37.420244\"/>\n     <use style=\"fill:#1f77b4;stroke:#1f77b4;\" x=\"297.42048\" xlink:href=\"#m9ebea5c88a\" y=\"37.37308\"/>\n     <use style=\"fill:#1f77b4;stroke:#1f77b4;\" x=\"300.494861\" xlink:href=\"#m9ebea5c88a\" y=\"37.328103\"/>\n     <use style=\"fill:#1f77b4;stroke:#1f77b4;\" x=\"303.569241\" xlink:href=\"#m9ebea5c88a\" y=\"37.283762\"/>\n     <use style=\"fill:#1f77b4;stroke:#1f77b4;\" x=\"306.643621\" xlink:href=\"#m9ebea5c88a\" y=\"37.241332\"/>\n     <use style=\"fill:#1f77b4;stroke:#1f77b4;\" x=\"309.718001\" xlink:href=\"#m9ebea5c88a\" y=\"37.199566\"/>\n     <use style=\"fill:#1f77b4;stroke:#1f77b4;\" x=\"312.792381\" xlink:href=\"#m9ebea5c88a\" y=\"37.158992\"/>\n     <use style=\"fill:#1f77b4;stroke:#1f77b4;\" x=\"315.866761\" xlink:href=\"#m9ebea5c88a\" y=\"37.120783\"/>\n     <use style=\"fill:#1f77b4;stroke:#1f77b4;\" x=\"318.941142\" xlink:href=\"#m9ebea5c88a\" y=\"37.083102\"/>\n     <use style=\"fill:#1f77b4;stroke:#1f77b4;\" x=\"322.015522\" xlink:href=\"#m9ebea5c88a\" y=\"37.046455\"/>\n     <use style=\"fill:#1f77b4;stroke:#1f77b4;\" x=\"325.089902\" xlink:href=\"#m9ebea5c88a\" y=\"37.010984\"/>\n     <use style=\"fill:#1f77b4;stroke:#1f77b4;\" x=\"328.164282\" xlink:href=\"#m9ebea5c88a\" y=\"36.976249\"/>\n     <use style=\"fill:#1f77b4;stroke:#1f77b4;\" x=\"331.238662\" xlink:href=\"#m9ebea5c88a\" y=\"36.942312\"/>\n     <use style=\"fill:#1f77b4;stroke:#1f77b4;\" x=\"334.313042\" xlink:href=\"#m9ebea5c88a\" y=\"36.909813\"/>\n     <use style=\"fill:#1f77b4;stroke:#1f77b4;\" x=\"337.387423\" xlink:href=\"#m9ebea5c88a\" y=\"36.878214\"/>\n     <use style=\"fill:#1f77b4;stroke:#1f77b4;\" x=\"340.461803\" xlink:href=\"#m9ebea5c88a\" y=\"36.847074\"/>\n     <use style=\"fill:#1f77b4;stroke:#1f77b4;\" x=\"343.536183\" xlink:href=\"#m9ebea5c88a\" y=\"36.817283\"/>\n     <use style=\"fill:#1f77b4;stroke:#1f77b4;\" x=\"346.610563\" xlink:href=\"#m9ebea5c88a\" y=\"36.788341\"/>\n     <use style=\"fill:#1f77b4;stroke:#1f77b4;\" x=\"349.684943\" xlink:href=\"#m9ebea5c88a\" y=\"36.760824\"/>\n    </g>\n   </g>\n   <g id=\"line2d_13\">\n    <path clip-path=\"url(#p8ceda69a2b)\" d=\"M 30.103125 47.144218 \nL 364.903125 47.144218 \n\" style=\"fill:none;stroke:#ff0000;stroke-linecap:square;stroke-width:1.5;\"/>\n   </g>\n   <g id=\"line2d_14\">\n    <path clip-path=\"url(#p8ceda69a2b)\" d=\"M 349.684943 244.317187 \nL 349.684943 26.877187 \n\" style=\"fill:none;stroke:#ff0000;stroke-linecap:square;stroke-width:1.5;\"/>\n   </g>\n   <g id=\"patch_3\">\n    <path d=\"M 30.103125 244.317188 \nL 30.103125 26.877188 \n\" style=\"fill:none;stroke:#000000;stroke-linecap:square;stroke-linejoin:miter;stroke-width:0.8;\"/>\n   </g>\n   <g id=\"patch_4\">\n    <path d=\"M 364.903125 244.317188 \nL 364.903125 26.877188 \n\" style=\"fill:none;stroke:#000000;stroke-linecap:square;stroke-linejoin:miter;stroke-width:0.8;\"/>\n   </g>\n   <g id=\"patch_5\">\n    <path d=\"M 30.103125 244.317187 \nL 364.903125 244.317187 \n\" style=\"fill:none;stroke:#000000;stroke-linecap:square;stroke-linejoin:miter;stroke-width:0.8;\"/>\n   </g>\n   <g id=\"patch_6\">\n    <path d=\"M 30.103125 26.877187 \nL 364.903125 26.877187 \n\" style=\"fill:none;stroke:#000000;stroke-linecap:square;stroke-linejoin:miter;stroke-width:0.8;\"/>\n   </g>\n   <g id=\"text_12\">\n    <!-- Variance explained - Customer -->\n    <g transform=\"translate(59.187188 20.877187)scale(0.18 -0.18)\">\n     <defs>\n      <path d=\"M 28.609375 0 \nL 0.78125 72.90625 \nL 11.078125 72.90625 \nL 34.1875 11.53125 \nL 57.328125 72.90625 \nL 67.578125 72.90625 \nL 39.796875 0 \nz\n\" id=\"DejaVuSans-86\"/>\n      <path d=\"M 34.28125 27.484375 \nQ 23.390625 27.484375 19.1875 25 \nQ 14.984375 22.515625 14.984375 16.5 \nQ 14.984375 11.71875 18.140625 8.90625 \nQ 21.296875 6.109375 26.703125 6.109375 \nQ 34.1875 6.109375 38.703125 11.40625 \nQ 43.21875 16.703125 43.21875 25.484375 \nL 43.21875 27.484375 \nz\nM 52.203125 31.203125 \nL 52.203125 0 \nL 43.21875 0 \nL 43.21875 8.296875 \nQ 40.140625 3.328125 35.546875 0.953125 \nQ 30.953125 -1.421875 24.3125 -1.421875 \nQ 15.921875 -1.421875 10.953125 3.296875 \nQ 6 8.015625 6 15.921875 \nQ 6 25.140625 12.171875 29.828125 \nQ 18.359375 34.515625 30.609375 34.515625 \nL 43.21875 34.515625 \nL 43.21875 35.40625 \nQ 43.21875 41.609375 39.140625 45 \nQ 35.0625 48.390625 27.6875 48.390625 \nQ 23 48.390625 18.546875 47.265625 \nQ 14.109375 46.140625 10.015625 43.890625 \nL 10.015625 52.203125 \nQ 14.9375 54.109375 19.578125 55.046875 \nQ 24.21875 56 28.609375 56 \nQ 40.484375 56 46.34375 49.84375 \nQ 52.203125 43.703125 52.203125 31.203125 \nz\n\" id=\"DejaVuSans-97\"/>\n      <path d=\"M 41.109375 46.296875 \nQ 39.59375 47.171875 37.8125 47.578125 \nQ 36.03125 48 33.890625 48 \nQ 26.265625 48 22.1875 43.046875 \nQ 18.109375 38.09375 18.109375 28.8125 \nL 18.109375 0 \nL 9.078125 0 \nL 9.078125 54.6875 \nL 18.109375 54.6875 \nL 18.109375 46.1875 \nQ 20.953125 51.171875 25.484375 53.578125 \nQ 30.03125 56 36.53125 56 \nQ 37.453125 56 38.578125 55.875 \nQ 39.703125 55.765625 41.0625 55.515625 \nz\n\" id=\"DejaVuSans-114\"/>\n      <path d=\"M 9.421875 54.6875 \nL 18.40625 54.6875 \nL 18.40625 0 \nL 9.421875 0 \nz\nM 9.421875 75.984375 \nL 18.40625 75.984375 \nL 18.40625 64.59375 \nL 9.421875 64.59375 \nz\n\" id=\"DejaVuSans-105\"/>\n      <path d=\"M 54.890625 33.015625 \nL 54.890625 0 \nL 45.90625 0 \nL 45.90625 32.71875 \nQ 45.90625 40.484375 42.875 44.328125 \nQ 39.84375 48.1875 33.796875 48.1875 \nQ 26.515625 48.1875 22.3125 43.546875 \nQ 18.109375 38.921875 18.109375 30.90625 \nL 18.109375 0 \nL 9.078125 0 \nL 9.078125 54.6875 \nL 18.109375 54.6875 \nL 18.109375 46.1875 \nQ 21.34375 51.125 25.703125 53.5625 \nQ 30.078125 56 35.796875 56 \nQ 45.21875 56 50.046875 50.171875 \nQ 54.890625 44.34375 54.890625 33.015625 \nz\n\" id=\"DejaVuSans-110\"/>\n      <path d=\"M 48.78125 52.59375 \nL 48.78125 44.1875 \nQ 44.96875 46.296875 41.140625 47.34375 \nQ 37.3125 48.390625 33.40625 48.390625 \nQ 24.65625 48.390625 19.8125 42.84375 \nQ 14.984375 37.3125 14.984375 27.296875 \nQ 14.984375 17.28125 19.8125 11.734375 \nQ 24.65625 6.203125 33.40625 6.203125 \nQ 37.3125 6.203125 41.140625 7.25 \nQ 44.96875 8.296875 48.78125 10.40625 \nL 48.78125 2.09375 \nQ 45.015625 0.34375 40.984375 -0.53125 \nQ 36.96875 -1.421875 32.421875 -1.421875 \nQ 20.0625 -1.421875 12.78125 6.34375 \nQ 5.515625 14.109375 5.515625 27.296875 \nQ 5.515625 40.671875 12.859375 48.328125 \nQ 20.21875 56 33.015625 56 \nQ 37.15625 56 41.109375 55.140625 \nQ 45.0625 54.296875 48.78125 52.59375 \nz\n\" id=\"DejaVuSans-99\"/>\n      <path d=\"M 56.203125 29.59375 \nL 56.203125 25.203125 \nL 14.890625 25.203125 \nQ 15.484375 15.921875 20.484375 11.0625 \nQ 25.484375 6.203125 34.421875 6.203125 \nQ 39.59375 6.203125 44.453125 7.46875 \nQ 49.3125 8.734375 54.109375 11.28125 \nL 54.109375 2.78125 \nQ 49.265625 0.734375 44.1875 -0.34375 \nQ 39.109375 -1.421875 33.890625 -1.421875 \nQ 20.796875 -1.421875 13.15625 6.1875 \nQ 5.515625 13.8125 5.515625 26.8125 \nQ 5.515625 40.234375 12.765625 48.109375 \nQ 20.015625 56 32.328125 56 \nQ 43.359375 56 49.78125 48.890625 \nQ 56.203125 41.796875 56.203125 29.59375 \nz\nM 47.21875 32.234375 \nQ 47.125 39.59375 43.09375 43.984375 \nQ 39.0625 48.390625 32.421875 48.390625 \nQ 24.90625 48.390625 20.390625 44.140625 \nQ 15.875 39.890625 15.1875 32.171875 \nz\n\" id=\"DejaVuSans-101\"/>\n      <path id=\"DejaVuSans-32\"/>\n      <path d=\"M 54.890625 54.6875 \nL 35.109375 28.078125 \nL 55.90625 0 \nL 45.3125 0 \nL 29.390625 21.484375 \nL 13.484375 0 \nL 2.875 0 \nL 24.125 28.609375 \nL 4.6875 54.6875 \nL 15.28125 54.6875 \nL 29.78125 35.203125 \nL 44.28125 54.6875 \nz\n\" id=\"DejaVuSans-120\"/>\n      <path d=\"M 18.109375 8.203125 \nL 18.109375 -20.796875 \nL 9.078125 -20.796875 \nL 9.078125 54.6875 \nL 18.109375 54.6875 \nL 18.109375 46.390625 \nQ 20.953125 51.265625 25.265625 53.625 \nQ 29.59375 56 35.59375 56 \nQ 45.5625 56 51.78125 48.09375 \nQ 58.015625 40.1875 58.015625 27.296875 \nQ 58.015625 14.40625 51.78125 6.484375 \nQ 45.5625 -1.421875 35.59375 -1.421875 \nQ 29.59375 -1.421875 25.265625 0.953125 \nQ 20.953125 3.328125 18.109375 8.203125 \nz\nM 48.6875 27.296875 \nQ 48.6875 37.203125 44.609375 42.84375 \nQ 40.53125 48.484375 33.40625 48.484375 \nQ 26.265625 48.484375 22.1875 42.84375 \nQ 18.109375 37.203125 18.109375 27.296875 \nQ 18.109375 17.390625 22.1875 11.75 \nQ 26.265625 6.109375 33.40625 6.109375 \nQ 40.53125 6.109375 44.609375 11.75 \nQ 48.6875 17.390625 48.6875 27.296875 \nz\n\" id=\"DejaVuSans-112\"/>\n      <path d=\"M 9.421875 75.984375 \nL 18.40625 75.984375 \nL 18.40625 0 \nL 9.421875 0 \nz\n\" id=\"DejaVuSans-108\"/>\n      <path d=\"M 45.40625 46.390625 \nL 45.40625 75.984375 \nL 54.390625 75.984375 \nL 54.390625 0 \nL 45.40625 0 \nL 45.40625 8.203125 \nQ 42.578125 3.328125 38.25 0.953125 \nQ 33.9375 -1.421875 27.875 -1.421875 \nQ 17.96875 -1.421875 11.734375 6.484375 \nQ 5.515625 14.40625 5.515625 27.296875 \nQ 5.515625 40.1875 11.734375 48.09375 \nQ 17.96875 56 27.875 56 \nQ 33.9375 56 38.25 53.625 \nQ 42.578125 51.265625 45.40625 46.390625 \nz\nM 14.796875 27.296875 \nQ 14.796875 17.390625 18.875 11.75 \nQ 22.953125 6.109375 30.078125 6.109375 \nQ 37.203125 6.109375 41.296875 11.75 \nQ 45.40625 17.390625 45.40625 27.296875 \nQ 45.40625 37.203125 41.296875 42.84375 \nQ 37.203125 48.484375 30.078125 48.484375 \nQ 22.953125 48.484375 18.875 42.84375 \nQ 14.796875 37.203125 14.796875 27.296875 \nz\n\" id=\"DejaVuSans-100\"/>\n      <path d=\"M 4.890625 31.390625 \nL 31.203125 31.390625 \nL 31.203125 23.390625 \nL 4.890625 23.390625 \nz\n\" id=\"DejaVuSans-45\"/>\n      <path d=\"M 64.40625 67.28125 \nL 64.40625 56.890625 \nQ 59.421875 61.53125 53.78125 63.8125 \nQ 48.140625 66.109375 41.796875 66.109375 \nQ 29.296875 66.109375 22.65625 58.46875 \nQ 16.015625 50.828125 16.015625 36.375 \nQ 16.015625 21.96875 22.65625 14.328125 \nQ 29.296875 6.6875 41.796875 6.6875 \nQ 48.140625 6.6875 53.78125 8.984375 \nQ 59.421875 11.28125 64.40625 15.921875 \nL 64.40625 5.609375 \nQ 59.234375 2.09375 53.4375 0.328125 \nQ 47.65625 -1.421875 41.21875 -1.421875 \nQ 24.65625 -1.421875 15.125 8.703125 \nQ 5.609375 18.84375 5.609375 36.375 \nQ 5.609375 53.953125 15.125 64.078125 \nQ 24.65625 74.21875 41.21875 74.21875 \nQ 47.75 74.21875 53.53125 72.484375 \nQ 59.328125 70.75 64.40625 67.28125 \nz\n\" id=\"DejaVuSans-67\"/>\n      <path d=\"M 8.5 21.578125 \nL 8.5 54.6875 \nL 17.484375 54.6875 \nL 17.484375 21.921875 \nQ 17.484375 14.15625 20.5 10.265625 \nQ 23.53125 6.390625 29.59375 6.390625 \nQ 36.859375 6.390625 41.078125 11.03125 \nQ 45.3125 15.671875 45.3125 23.6875 \nL 45.3125 54.6875 \nL 54.296875 54.6875 \nL 54.296875 0 \nL 45.3125 0 \nL 45.3125 8.40625 \nQ 42.046875 3.421875 37.71875 1 \nQ 33.40625 -1.421875 27.6875 -1.421875 \nQ 18.265625 -1.421875 13.375 4.4375 \nQ 8.5 10.296875 8.5 21.578125 \nz\nM 31.109375 56 \nz\n\" id=\"DejaVuSans-117\"/>\n      <path d=\"M 44.28125 53.078125 \nL 44.28125 44.578125 \nQ 40.484375 46.53125 36.375 47.5 \nQ 32.28125 48.484375 27.875 48.484375 \nQ 21.1875 48.484375 17.84375 46.4375 \nQ 14.5 44.390625 14.5 40.28125 \nQ 14.5 37.15625 16.890625 35.375 \nQ 19.28125 33.59375 26.515625 31.984375 \nL 29.59375 31.296875 \nQ 39.15625 29.25 43.1875 25.515625 \nQ 47.21875 21.78125 47.21875 15.09375 \nQ 47.21875 7.46875 41.1875 3.015625 \nQ 35.15625 -1.421875 24.609375 -1.421875 \nQ 20.21875 -1.421875 15.453125 -0.5625 \nQ 10.6875 0.296875 5.421875 2 \nL 5.421875 11.28125 \nQ 10.40625 8.6875 15.234375 7.390625 \nQ 20.0625 6.109375 24.8125 6.109375 \nQ 31.15625 6.109375 34.5625 8.28125 \nQ 37.984375 10.453125 37.984375 14.40625 \nQ 37.984375 18.0625 35.515625 20.015625 \nQ 33.0625 21.96875 24.703125 23.78125 \nL 21.578125 24.515625 \nQ 13.234375 26.265625 9.515625 29.90625 \nQ 5.8125 33.546875 5.8125 39.890625 \nQ 5.8125 47.609375 11.28125 51.796875 \nQ 16.75 56 26.8125 56 \nQ 31.78125 56 36.171875 55.265625 \nQ 40.578125 54.546875 44.28125 53.078125 \nz\n\" id=\"DejaVuSans-115\"/>\n      <path d=\"M 18.3125 70.21875 \nL 18.3125 54.6875 \nL 36.8125 54.6875 \nL 36.8125 47.703125 \nL 18.3125 47.703125 \nL 18.3125 18.015625 \nQ 18.3125 11.328125 20.140625 9.421875 \nQ 21.96875 7.515625 27.59375 7.515625 \nL 36.8125 7.515625 \nL 36.8125 0 \nL 27.59375 0 \nQ 17.1875 0 13.234375 3.875 \nQ 9.28125 7.765625 9.28125 18.015625 \nL 9.28125 47.703125 \nL 2.6875 47.703125 \nL 2.6875 54.6875 \nL 9.28125 54.6875 \nL 9.28125 70.21875 \nz\n\" id=\"DejaVuSans-116\"/>\n      <path d=\"M 30.609375 48.390625 \nQ 23.390625 48.390625 19.1875 42.75 \nQ 14.984375 37.109375 14.984375 27.296875 \nQ 14.984375 17.484375 19.15625 11.84375 \nQ 23.34375 6.203125 30.609375 6.203125 \nQ 37.796875 6.203125 41.984375 11.859375 \nQ 46.1875 17.53125 46.1875 27.296875 \nQ 46.1875 37.015625 41.984375 42.703125 \nQ 37.796875 48.390625 30.609375 48.390625 \nz\nM 30.609375 56 \nQ 42.328125 56 49.015625 48.375 \nQ 55.71875 40.765625 55.71875 27.296875 \nQ 55.71875 13.875 49.015625 6.21875 \nQ 42.328125 -1.421875 30.609375 -1.421875 \nQ 18.84375 -1.421875 12.171875 6.21875 \nQ 5.515625 13.875 5.515625 27.296875 \nQ 5.515625 40.765625 12.171875 48.375 \nQ 18.84375 56 30.609375 56 \nz\n\" id=\"DejaVuSans-111\"/>\n      <path d=\"M 52 44.1875 \nQ 55.375 50.25 60.0625 53.125 \nQ 64.75 56 71.09375 56 \nQ 79.640625 56 84.28125 50.015625 \nQ 88.921875 44.046875 88.921875 33.015625 \nL 88.921875 0 \nL 79.890625 0 \nL 79.890625 32.71875 \nQ 79.890625 40.578125 77.09375 44.375 \nQ 74.3125 48.1875 68.609375 48.1875 \nQ 61.625 48.1875 57.5625 43.546875 \nQ 53.515625 38.921875 53.515625 30.90625 \nL 53.515625 0 \nL 44.484375 0 \nL 44.484375 32.71875 \nQ 44.484375 40.625 41.703125 44.40625 \nQ 38.921875 48.1875 33.109375 48.1875 \nQ 26.21875 48.1875 22.15625 43.53125 \nQ 18.109375 38.875 18.109375 30.90625 \nL 18.109375 0 \nL 9.078125 0 \nL 9.078125 54.6875 \nL 18.109375 54.6875 \nL 18.109375 46.1875 \nQ 21.1875 51.21875 25.484375 53.609375 \nQ 29.78125 56 35.6875 56 \nQ 41.65625 56 45.828125 52.96875 \nQ 50 49.953125 52 44.1875 \nz\n\" id=\"DejaVuSans-109\"/>\n     </defs>\n     <use xlink:href=\"#DejaVuSans-86\"/>\n     <use x=\"60.658203\" xlink:href=\"#DejaVuSans-97\"/>\n     <use x=\"121.9375\" xlink:href=\"#DejaVuSans-114\"/>\n     <use x=\"163.050781\" xlink:href=\"#DejaVuSans-105\"/>\n     <use x=\"190.833984\" xlink:href=\"#DejaVuSans-97\"/>\n     <use x=\"252.113281\" xlink:href=\"#DejaVuSans-110\"/>\n     <use x=\"315.492188\" xlink:href=\"#DejaVuSans-99\"/>\n     <use x=\"370.472656\" xlink:href=\"#DejaVuSans-101\"/>\n     <use x=\"431.996094\" xlink:href=\"#DejaVuSans-32\"/>\n     <use x=\"463.783203\" xlink:href=\"#DejaVuSans-101\"/>\n     <use x=\"523.556641\" xlink:href=\"#DejaVuSans-120\"/>\n     <use x=\"582.736328\" xlink:href=\"#DejaVuSans-112\"/>\n     <use x=\"646.212891\" xlink:href=\"#DejaVuSans-108\"/>\n     <use x=\"673.996094\" xlink:href=\"#DejaVuSans-97\"/>\n     <use x=\"735.275391\" xlink:href=\"#DejaVuSans-105\"/>\n     <use x=\"763.058594\" xlink:href=\"#DejaVuSans-110\"/>\n     <use x=\"826.4375\" xlink:href=\"#DejaVuSans-101\"/>\n     <use x=\"887.960938\" xlink:href=\"#DejaVuSans-100\"/>\n     <use x=\"951.4375\" xlink:href=\"#DejaVuSans-32\"/>\n     <use x=\"983.224609\" xlink:href=\"#DejaVuSans-45\"/>\n     <use x=\"1019.308594\" xlink:href=\"#DejaVuSans-32\"/>\n     <use x=\"1051.095703\" xlink:href=\"#DejaVuSans-67\"/>\n     <use x=\"1120.919922\" xlink:href=\"#DejaVuSans-117\"/>\n     <use x=\"1184.298828\" xlink:href=\"#DejaVuSans-115\"/>\n     <use x=\"1236.398438\" xlink:href=\"#DejaVuSans-116\"/>\n     <use x=\"1275.607422\" xlink:href=\"#DejaVuSans-111\"/>\n     <use x=\"1336.789062\" xlink:href=\"#DejaVuSans-109\"/>\n     <use x=\"1434.201172\" xlink:href=\"#DejaVuSans-101\"/>\n     <use x=\"1495.724609\" xlink:href=\"#DejaVuSans-114\"/>\n    </g>\n   </g>\n  </g>\n </g>\n <defs>\n  <clipPath id=\"p8ceda69a2b\">\n   <rect height=\"217.44\" width=\"334.8\" x=\"30.103125\" y=\"26.877187\"/>\n  </clipPath>\n </defs>\n</svg>\n",
      "image/png": "[encoded data removed]"
     },
     "metadata": {
      "needs_background": "light"
     }
    }
   ],
   "source": [
    "# Calculates the proportion of variance explained\\n\",\n",
    "var_exp_cust = np.cumsum(pca.explained_variance_ratio_)\n",
    "\n",
    "# Plots the elbow plot for the wine pca\n",
    "plt.plot(range(1,101), var_exp_cust, marker='o')\n",
    "plt.title(\"Variance explained - Customer\", fontsize=18)\n",
    "plt.axhline(0.95,c='r')\n",
    "plt.axvline(100,c='r')\n",
    "plt.show()"
   ]
  },
  {
   "cell_type": "code",
   "execution_count": 43,
   "metadata": {},
   "outputs": [
    {
     "output_type": "execute_result",
     "data": {
      "text/plain": [
       "array([[ 0.04573234, -0.02359081,  0.00571393, ...,  0.09175239,\n",
       "        -0.02308177, -0.00757561],\n",
       "       [ 0.02232713, -0.00650751, -0.00531728, ...,  0.05753838,\n",
       "         0.03419369,  0.01071834],\n",
       "       [-0.02153195,  0.01585969, -0.04206488, ...,  0.05089678,\n",
       "        -0.04690871, -0.03169514],\n",
       "       ...,\n",
       "       [ 0.00155136,  0.02361859,  0.00645168, ..., -0.03536223,\n",
       "         0.00069763, -0.00064895],\n",
       "       [-0.00359021, -0.05894541,  0.00135839, ..., -0.01444832,\n",
       "         0.00059967, -0.00022603],\n",
       "       [ 0.01651093, -0.02852826,  0.04734597, ...,  0.00569197,\n",
       "         0.00470069, -0.00204606]])"
      ]
     },
     "metadata": {},
     "execution_count": 43
    }
   ],
   "source": [
    "pca.components_"
   ]
  },
  {
   "cell_type": "code",
   "execution_count": 44,
   "metadata": {},
   "outputs": [
    {
     "output_type": "execute_result",
     "data": {
      "text/plain": [
       "         0         1         2         3         4         5         6    \\\n",
       "0   0.045732 -0.023591  0.005714 -0.051445  0.000192 -0.000189 -0.001469   \n",
       "1   0.022327 -0.006508 -0.005317 -0.019389  0.000963  0.000185 -0.021662   \n",
       "2  -0.021532  0.015860 -0.042065  0.076090 -0.001335  0.000967  0.012721   \n",
       "3   0.023054 -0.009146  0.022631  0.049805  0.000095  0.000007 -0.001134   \n",
       "4  -0.063321  0.042680 -0.035636  0.029125 -0.002396  0.000702  0.008334   \n",
       "..       ...       ...       ...       ...       ...       ...       ...   \n",
       "95 -0.009046 -0.005603 -0.040165 -0.020310  0.168895  0.016643 -0.007093   \n",
       "96 -0.039525  0.029841 -0.021109  0.014926 -0.070870 -0.006684  0.043399   \n",
       "97  0.001551  0.023619  0.006452 -0.003935 -0.073085 -0.038329  0.005884   \n",
       "98 -0.003590 -0.058945  0.001358 -0.032942  0.184248 -0.012431 -0.004856   \n",
       "99  0.016511 -0.028528  0.047346 -0.011952 -0.036030  0.021585 -0.011445   \n",
       "\n",
       "         7         8         9    ...       175       176       177       178  \\\n",
       "0  -0.000203  0.015328  0.009930  ... -0.071279  0.071279 -0.048530  0.172192   \n",
       "1  -0.006023  0.026701  0.008721  ...  0.090691 -0.090691  0.256609 -0.100417   \n",
       "2   0.003725 -0.067350  0.022919  ... -0.394159  0.394159  0.053420 -0.013479   \n",
       "3   0.004390 -0.042548 -0.047154  ...  0.180278 -0.180278  0.070740  0.131784   \n",
       "4   0.005969 -0.033878  0.048421  ...  0.107230 -0.107230 -0.099704 -0.003095   \n",
       "..       ...       ...       ...  ...       ...       ...       ...       ...   \n",
       "95 -0.125530  0.029368 -0.007159  ...  0.000291 -0.000291 -0.017611  0.001044   \n",
       "96  0.047796 -0.016149  0.018373  ...  0.006004 -0.006004  0.010544 -0.021074   \n",
       "97  0.061807 -0.013810  0.029847  ...  0.000143 -0.000143 -0.002507  0.010461   \n",
       "98 -0.083499 -0.006410  0.017067  ... -0.001986  0.001986 -0.008173  0.008629   \n",
       "99  0.014283  0.013877 -0.025647  ...  0.001453 -0.001453 -0.006753  0.018879   \n",
       "\n",
       "         179       180       181       182       183       184  \n",
       "0   0.010556  0.083322  0.003122  0.091752 -0.023082 -0.007576  \n",
       "1   0.145333  0.042946  0.171209  0.057538  0.034194  0.010718  \n",
       "2  -0.146356  0.027768 -0.149666  0.050897 -0.046909 -0.031695  \n",
       "3  -0.191733 -0.422356 -0.215463 -0.430893 -0.135818  0.016503  \n",
       "4   0.323961  0.259355  0.320663  0.250224  0.063821 -0.012881  \n",
       "..       ...       ...       ...       ...       ...       ...  \n",
       "95  0.031805  0.007425 -0.036983 -0.021684  0.006375  0.000463  \n",
       "96 -0.020656  0.006041  0.036670 -0.006735  0.015822  0.005290  \n",
       "97 -0.010700  0.002093  0.004251 -0.035362  0.000698 -0.000649  \n",
       "98 -0.014638 -0.004390  0.002914 -0.014448  0.000600 -0.000226  \n",
       "99 -0.012597 -0.014135  0.030843  0.005692  0.004701 -0.002046  \n",
       "\n",
       "[100 rows x 185 columns]"
      ],
      "text/html": "<div>\n<style scoped>\n    .dataframe tbody tr th:only-of-type {\n        vertical-align: middle;\n    }\n\n    .dataframe tbody tr th {\n        vertical-align: top;\n    }\n\n    .dataframe thead th {\n        text-align: right;\n    }\n</style>\n<table border=\"1\" class=\"dataframe\">\n  <thead>\n    <tr style=\"text-align: right;\">\n      <th></th>\n      <th>0</th>\n      <th>1</th>\n      <th>2</th>\n      <th>3</th>\n      <th>4</th>\n      <th>5</th>\n      <th>6</th>\n      <th>7</th>\n      <th>8</th>\n      <th>9</th>\n      <th>...</th>\n      <th>175</th>\n      <th>176</th>\n      <th>177</th>\n      <th>178</th>\n      <th>179</th>\n      <th>180</th>\n      <th>181</th>\n      <th>182</th>\n      <th>183</th>\n      <th>184</th>\n    </tr>\n  </thead>\n  <tbody>\n    <tr>\n      <th>0</th>\n      <td>0.045732</td>\n      <td>-0.023591</td>\n      <td>0.005714</td>\n      <td>-0.051445</td>\n      <td>0.000192</td>\n      <td>-0.000189</td>\n      <td>-0.001469</td>\n      <td>-0.000203</td>\n      <td>0.015328</td>\n      <td>0.009930</td>\n      <td>...</td>\n      <td>-0.071279</td>\n      <td>0.071279</td>\n      <td>-0.048530</td>\n      <td>0.172192</td>\n      <td>0.010556</td>\n      <td>0.083322</td>\n      <td>0.003122</td>\n      <td>0.091752</td>\n      <td>-0.023082</td>\n      <td>-0.007576</td>\n    </tr>\n    <tr>\n      <th>1</th>\n      <td>0.022327</td>\n      <td>-0.006508</td>\n      <td>-0.005317</td>\n      <td>-0.019389</td>\n      <td>0.000963</td>\n      <td>0.000185</td>\n      <td>-0.021662</td>\n      <td>-0.006023</td>\n      <td>0.026701</td>\n      <td>0.008721</td>\n      <td>...</td>\n      <td>0.090691</td>\n      <td>-0.090691</td>\n      <td>0.256609</td>\n      <td>-0.100417</td>\n      <td>0.145333</td>\n      <td>0.042946</td>\n      <td>0.171209</td>\n      <td>0.057538</td>\n      <td>0.034194</td>\n      <td>0.010718</td>\n    </tr>\n    <tr>\n      <th>2</th>\n      <td>-0.021532</td>\n      <td>0.015860</td>\n      <td>-0.042065</td>\n      <td>0.076090</td>\n      <td>-0.001335</td>\n      <td>0.000967</td>\n      <td>0.012721</td>\n      <td>0.003725</td>\n      <td>-0.067350</td>\n      <td>0.022919</td>\n      <td>...</td>\n      <td>-0.394159</td>\n      <td>0.394159</td>\n      <td>0.053420</td>\n      <td>-0.013479</td>\n      <td>-0.146356</td>\n      <td>0.027768</td>\n      <td>-0.149666</td>\n      <td>0.050897</td>\n      <td>-0.046909</td>\n      <td>-0.031695</td>\n    </tr>\n    <tr>\n      <th>3</th>\n      <td>0.023054</td>\n      <td>-0.009146</td>\n      <td>0.022631</td>\n      <td>0.049805</td>\n      <td>0.000095</td>\n      <td>0.000007</td>\n      <td>-0.001134</td>\n      <td>0.004390</td>\n      <td>-0.042548</td>\n      <td>-0.047154</td>\n      <td>...</td>\n      <td>0.180278</td>\n      <td>-0.180278</td>\n      <td>0.070740</td>\n      <td>0.131784</td>\n      <td>-0.191733</td>\n      <td>-0.422356</td>\n      <td>-0.215463</td>\n      <td>-0.430893</td>\n      <td>-0.135818</td>\n      <td>0.016503</td>\n    </tr>\n    <tr>\n      <th>4</th>\n      <td>-0.063321</td>\n      <td>0.042680</td>\n      <td>-0.035636</td>\n      <td>0.029125</td>\n      <td>-0.002396</td>\n      <td>0.000702</td>\n      <td>0.008334</td>\n      <td>0.005969</td>\n      <td>-0.033878</td>\n      <td>0.048421</td>\n      <td>...</td>\n      <td>0.107230</td>\n      <td>-0.107230</td>\n      <td>-0.099704</td>\n      <td>-0.003095</td>\n      <td>0.323961</td>\n      <td>0.259355</td>\n      <td>0.320663</td>\n      <td>0.250224</td>\n      <td>0.063821</td>\n      <td>-0.012881</td>\n    </tr>\n    <tr>\n      <th>...</th>\n      <td>...</td>\n      <td>...</td>\n      <td>...</td>\n      <td>...</td>\n      <td>...</td>\n      <td>...</td>\n      <td>...</td>\n      <td>...</td>\n      <td>...</td>\n      <td>...</td>\n      <td>...</td>\n      <td>...</td>\n      <td>...</td>\n      <td>...</td>\n      <td>...</td>\n      <td>...</td>\n      <td>...</td>\n      <td>...</td>\n      <td>...</td>\n      <td>...</td>\n      <td>...</td>\n    </tr>\n    <tr>\n      <th>95</th>\n      <td>-0.009046</td>\n      <td>-0.005603</td>\n      <td>-0.040165</td>\n      <td>-0.020310</td>\n      <td>0.168895</td>\n      <td>0.016643</td>\n      <td>-0.007093</td>\n      <td>-0.125530</td>\n      <td>0.029368</td>\n      <td>-0.007159</td>\n      <td>...</td>\n      <td>0.000291</td>\n      <td>-0.000291</td>\n      <td>-0.017611</td>\n      <td>0.001044</td>\n      <td>0.031805</td>\n      <td>0.007425</td>\n      <td>-0.036983</td>\n      <td>-0.021684</td>\n      <td>0.006375</td>\n      <td>0.000463</td>\n    </tr>\n    <tr>\n      <th>96</th>\n      <td>-0.039525</td>\n      <td>0.029841</td>\n      <td>-0.021109</td>\n      <td>0.014926</td>\n      <td>-0.070870</td>\n      <td>-0.006684</td>\n      <td>0.043399</td>\n      <td>0.047796</td>\n      <td>-0.016149</td>\n      <td>0.018373</td>\n      <td>...</td>\n      <td>0.006004</td>\n      <td>-0.006004</td>\n      <td>0.010544</td>\n      <td>-0.021074</td>\n      <td>-0.020656</td>\n      <td>0.006041</td>\n      <td>0.036670</td>\n      <td>-0.006735</td>\n      <td>0.015822</td>\n      <td>0.005290</td>\n    </tr>\n    <tr>\n      <th>97</th>\n      <td>0.001551</td>\n      <td>0.023619</td>\n      <td>0.006452</td>\n      <td>-0.003935</td>\n      <td>-0.073085</td>\n      <td>-0.038329</td>\n      <td>0.005884</td>\n      <td>0.061807</td>\n      <td>-0.013810</td>\n      <td>0.029847</td>\n      <td>...</td>\n      <td>0.000143</td>\n      <td>-0.000143</td>\n      <td>-0.002507</td>\n      <td>0.010461</td>\n      <td>-0.010700</td>\n      <td>0.002093</td>\n      <td>0.004251</td>\n      <td>-0.035362</td>\n      <td>0.000698</td>\n      <td>-0.000649</td>\n    </tr>\n    <tr>\n      <th>98</th>\n      <td>-0.003590</td>\n      <td>-0.058945</td>\n      <td>0.001358</td>\n      <td>-0.032942</td>\n      <td>0.184248</td>\n      <td>-0.012431</td>\n      <td>-0.004856</td>\n      <td>-0.083499</td>\n      <td>-0.006410</td>\n      <td>0.017067</td>\n      <td>...</td>\n      <td>-0.001986</td>\n      <td>0.001986</td>\n      <td>-0.008173</td>\n      <td>0.008629</td>\n      <td>-0.014638</td>\n      <td>-0.004390</td>\n      <td>0.002914</td>\n      <td>-0.014448</td>\n      <td>0.000600</td>\n      <td>-0.000226</td>\n    </tr>\n    <tr>\n      <th>99</th>\n      <td>0.016511</td>\n      <td>-0.028528</td>\n      <td>0.047346</td>\n      <td>-0.011952</td>\n      <td>-0.036030</td>\n      <td>0.021585</td>\n      <td>-0.011445</td>\n      <td>0.014283</td>\n      <td>0.013877</td>\n      <td>-0.025647</td>\n      <td>...</td>\n      <td>0.001453</td>\n      <td>-0.001453</td>\n      <td>-0.006753</td>\n      <td>0.018879</td>\n      <td>-0.012597</td>\n      <td>-0.014135</td>\n      <td>0.030843</td>\n      <td>0.005692</td>\n      <td>0.004701</td>\n      <td>-0.002046</td>\n    </tr>\n  </tbody>\n</table>\n<p>100 rows × 185 columns</p>\n</div>"
     },
     "metadata": {},
     "execution_count": 44
    }
   ],
   "source": [
    "pcs = pca.components_\n",
    "pcs = pd.DataFrame(pcs)\n",
    "pcs"
   ]
  },
  {
   "cell_type": "code",
   "execution_count": 45,
   "metadata": {},
   "outputs": [],
   "source": [
    "PCAColNames = [f'PC{i}'for i in range(1,101)]"
   ]
  },
  {
   "cell_type": "code",
   "execution_count": 46,
   "metadata": {},
   "outputs": [],
   "source": [
    "#PCADataFrame = pd.DataFrame(components,columns=PCAColNames)\n",
    "X_final_jan = pd.DataFrame(components,columns=PCAColNames)"
   ]
  },
  {
   "cell_type": "code",
   "execution_count": 47,
   "metadata": {},
   "outputs": [
    {
     "output_type": "execute_result",
     "data": {
      "text/plain": [
       "            PC1       PC2       PC3       PC4       PC5       PC6       PC7  \\\n",
       "0     -1.752335  1.999412  0.605334 -0.513637 -1.063588 -0.679383  0.147754   \n",
       "1     -1.334918  2.484019  0.497436 -0.091410 -0.570120 -0.856168  0.307136   \n",
       "2     -1.752335  1.999412  0.605334 -0.513637 -1.063588 -0.679383  0.147754   \n",
       "3     -1.334918  2.484019  0.497436 -0.091410 -0.570120 -0.856168  0.307136   \n",
       "4     -1.752335  1.999412  0.605334 -0.513637 -1.063588 -0.679383  0.147754   \n",
       "...         ...       ...       ...       ...       ...       ...       ...   \n",
       "13861 -0.406360 -0.570340 -1.545404  1.438557 -1.034535  0.140405 -0.976198   \n",
       "13862 -0.406360 -0.570340 -1.545404  1.438557 -1.034535  0.140405 -0.976198   \n",
       "13863 -0.406360 -0.570340 -1.545404  1.438557 -1.034535  0.140405 -0.976198   \n",
       "13864 -1.254183 -0.119261  0.575970  1.558417  0.246069  1.105079 -1.288278   \n",
       "13865 -1.254183 -0.119261  0.575970  1.558417  0.246069  1.105079 -1.288278   \n",
       "\n",
       "            PC8       PC9      PC10  ...      PC91      PC92      PC93  \\\n",
       "0     -0.492801 -0.430548 -1.486618  ... -0.027058 -0.015078  0.013513   \n",
       "1     -0.267535 -0.995325 -1.398537  ... -0.033636 -0.003347  0.018374   \n",
       "2     -0.492801 -0.430548 -1.486618  ... -0.027058 -0.015078  0.013513   \n",
       "3     -0.267535 -0.995325 -1.398537  ... -0.033636 -0.003347  0.018374   \n",
       "4     -0.492801 -0.430548 -1.486618  ... -0.027058 -0.015078  0.013513   \n",
       "...         ...       ...       ...  ...       ...       ...       ...   \n",
       "13861  0.331035  1.016052 -0.766111  ... -0.112293 -0.069922  0.060084   \n",
       "13862  0.331035  1.016052 -0.766111  ... -0.112293 -0.069922  0.060084   \n",
       "13863  0.331035  1.016052 -0.766111  ... -0.112293 -0.069922  0.060084   \n",
       "13864  0.221063  0.910547  0.983700  ...  0.035989 -0.078794  0.099793   \n",
       "13865  0.221063  0.910547  0.983700  ...  0.035989 -0.078794  0.099793   \n",
       "\n",
       "           PC94      PC95      PC96      PC97      PC98      PC99     PC100  \n",
       "0     -0.013845  0.010944  0.008079 -0.031181 -0.023686  0.017106 -0.013037  \n",
       "1     -0.008773  0.026794  0.008586 -0.020256 -0.023884  0.033933 -0.017588  \n",
       "2     -0.013845  0.010944  0.008079 -0.031181 -0.023686  0.017106 -0.013037  \n",
       "3     -0.008773  0.026794  0.008586 -0.020256 -0.023884  0.033933 -0.017588  \n",
       "4     -0.013845  0.010944  0.008079 -0.031181 -0.023686  0.017106 -0.013037  \n",
       "...         ...       ...       ...       ...       ...       ...       ...  \n",
       "13861 -0.104465 -0.035426  0.159867 -0.109782 -0.072647  0.180338 -0.019786  \n",
       "13862 -0.104465 -0.035426  0.159867 -0.109782 -0.072647  0.180338 -0.019786  \n",
       "13863 -0.104465 -0.035426  0.159867 -0.109782 -0.072647  0.180338 -0.019786  \n",
       "13864 -0.063417 -0.129470  0.159403 -0.070959  0.063985  0.171471  0.008811  \n",
       "13865 -0.063417 -0.129470  0.159403 -0.070959  0.063985  0.171471  0.008811  \n",
       "\n",
       "[13866 rows x 100 columns]"
      ],
      "text/html": "<div>\n<style scoped>\n    .dataframe tbody tr th:only-of-type {\n        vertical-align: middle;\n    }\n\n    .dataframe tbody tr th {\n        vertical-align: top;\n    }\n\n    .dataframe thead th {\n        text-align: right;\n    }\n</style>\n<table border=\"1\" class=\"dataframe\">\n  <thead>\n    <tr style=\"text-align: right;\">\n      <th></th>\n      <th>PC1</th>\n      <th>PC2</th>\n      <th>PC3</th>\n      <th>PC4</th>\n      <th>PC5</th>\n      <th>PC6</th>\n      <th>PC7</th>\n      <th>PC8</th>\n      <th>PC9</th>\n      <th>PC10</th>\n      <th>...</th>\n      <th>PC91</th>\n      <th>PC92</th>\n      <th>PC93</th>\n      <th>PC94</th>\n      <th>PC95</th>\n      <th>PC96</th>\n      <th>PC97</th>\n      <th>PC98</th>\n      <th>PC99</th>\n      <th>PC100</th>\n    </tr>\n  </thead>\n  <tbody>\n    <tr>\n      <th>0</th>\n      <td>-1.752335</td>\n      <td>1.999412</td>\n      <td>0.605334</td>\n      <td>-0.513637</td>\n      <td>-1.063588</td>\n      <td>-0.679383</td>\n      <td>0.147754</td>\n      <td>-0.492801</td>\n      <td>-0.430548</td>\n      <td>-1.486618</td>\n      <td>...</td>\n      <td>-0.027058</td>\n      <td>-0.015078</td>\n      <td>0.013513</td>\n      <td>-0.013845</td>\n      <td>0.010944</td>\n      <td>0.008079</td>\n      <td>-0.031181</td>\n      <td>-0.023686</td>\n      <td>0.017106</td>\n      <td>-0.013037</td>\n    </tr>\n    <tr>\n      <th>1</th>\n      <td>-1.334918</td>\n      <td>2.484019</td>\n      <td>0.497436</td>\n      <td>-0.091410</td>\n      <td>-0.570120</td>\n      <td>-0.856168</td>\n      <td>0.307136</td>\n      <td>-0.267535</td>\n      <td>-0.995325</td>\n      <td>-1.398537</td>\n      <td>...</td>\n      <td>-0.033636</td>\n      <td>-0.003347</td>\n      <td>0.018374</td>\n      <td>-0.008773</td>\n      <td>0.026794</td>\n      <td>0.008586</td>\n      <td>-0.020256</td>\n      <td>-0.023884</td>\n      <td>0.033933</td>\n      <td>-0.017588</td>\n    </tr>\n    <tr>\n      <th>2</th>\n      <td>-1.752335</td>\n      <td>1.999412</td>\n      <td>0.605334</td>\n      <td>-0.513637</td>\n      <td>-1.063588</td>\n      <td>-0.679383</td>\n      <td>0.147754</td>\n      <td>-0.492801</td>\n      <td>-0.430548</td>\n      <td>-1.486618</td>\n      <td>...</td>\n      <td>-0.027058</td>\n      <td>-0.015078</td>\n      <td>0.013513</td>\n      <td>-0.013845</td>\n      <td>0.010944</td>\n      <td>0.008079</td>\n      <td>-0.031181</td>\n      <td>-0.023686</td>\n      <td>0.017106</td>\n      <td>-0.013037</td>\n    </tr>\n    <tr>\n      <th>3</th>\n      <td>-1.334918</td>\n      <td>2.484019</td>\n      <td>0.497436</td>\n      <td>-0.091410</td>\n      <td>-0.570120</td>\n      <td>-0.856168</td>\n      <td>0.307136</td>\n      <td>-0.267535</td>\n      <td>-0.995325</td>\n      <td>-1.398537</td>\n      <td>...</td>\n      <td>-0.033636</td>\n      <td>-0.003347</td>\n      <td>0.018374</td>\n      <td>-0.008773</td>\n      <td>0.026794</td>\n      <td>0.008586</td>\n      <td>-0.020256</td>\n      <td>-0.023884</td>\n      <td>0.033933</td>\n      <td>-0.017588</td>\n    </tr>\n    <tr>\n      <th>4</th>\n      <td>-1.752335</td>\n      <td>1.999412</td>\n      <td>0.605334</td>\n      <td>-0.513637</td>\n      <td>-1.063588</td>\n      <td>-0.679383</td>\n      <td>0.147754</td>\n      <td>-0.492801</td>\n      <td>-0.430548</td>\n      <td>-1.486618</td>\n      <td>...</td>\n      <td>-0.027058</td>\n      <td>-0.015078</td>\n      <td>0.013513</td>\n      <td>-0.013845</td>\n      <td>0.010944</td>\n      <td>0.008079</td>\n      <td>-0.031181</td>\n      <td>-0.023686</td>\n      <td>0.017106</td>\n      <td>-0.013037</td>\n    </tr>\n    <tr>\n      <th>...</th>\n      <td>...</td>\n      <td>...</td>\n      <td>...</td>\n      <td>...</td>\n      <td>...</td>\n      <td>...</td>\n      <td>...</td>\n      <td>...</td>\n      <td>...</td>\n      <td>...</td>\n      <td>...</td>\n      <td>...</td>\n      <td>...</td>\n      <td>...</td>\n      <td>...</td>\n      <td>...</td>\n      <td>...</td>\n      <td>...</td>\n      <td>...</td>\n      <td>...</td>\n      <td>...</td>\n    </tr>\n    <tr>\n      <th>13861</th>\n      <td>-0.406360</td>\n      <td>-0.570340</td>\n      <td>-1.545404</td>\n      <td>1.438557</td>\n      <td>-1.034535</td>\n      <td>0.140405</td>\n      <td>-0.976198</td>\n      <td>0.331035</td>\n      <td>1.016052</td>\n      <td>-0.766111</td>\n      <td>...</td>\n      <td>-0.112293</td>\n      <td>-0.069922</td>\n      <td>0.060084</td>\n      <td>-0.104465</td>\n      <td>-0.035426</td>\n      <td>0.159867</td>\n      <td>-0.109782</td>\n      <td>-0.072647</td>\n      <td>0.180338</td>\n      <td>-0.019786</td>\n    </tr>\n    <tr>\n      <th>13862</th>\n      <td>-0.406360</td>\n      <td>-0.570340</td>\n      <td>-1.545404</td>\n      <td>1.438557</td>\n      <td>-1.034535</td>\n      <td>0.140405</td>\n      <td>-0.976198</td>\n      <td>0.331035</td>\n      <td>1.016052</td>\n      <td>-0.766111</td>\n      <td>...</td>\n      <td>-0.112293</td>\n      <td>-0.069922</td>\n      <td>0.060084</td>\n      <td>-0.104465</td>\n      <td>-0.035426</td>\n      <td>0.159867</td>\n      <td>-0.109782</td>\n      <td>-0.072647</td>\n      <td>0.180338</td>\n      <td>-0.019786</td>\n    </tr>\n    <tr>\n      <th>13863</th>\n      <td>-0.406360</td>\n      <td>-0.570340</td>\n      <td>-1.545404</td>\n      <td>1.438557</td>\n      <td>-1.034535</td>\n      <td>0.140405</td>\n      <td>-0.976198</td>\n      <td>0.331035</td>\n      <td>1.016052</td>\n      <td>-0.766111</td>\n      <td>...</td>\n      <td>-0.112293</td>\n      <td>-0.069922</td>\n      <td>0.060084</td>\n      <td>-0.104465</td>\n      <td>-0.035426</td>\n      <td>0.159867</td>\n      <td>-0.109782</td>\n      <td>-0.072647</td>\n      <td>0.180338</td>\n      <td>-0.019786</td>\n    </tr>\n    <tr>\n      <th>13864</th>\n      <td>-1.254183</td>\n      <td>-0.119261</td>\n      <td>0.575970</td>\n      <td>1.558417</td>\n      <td>0.246069</td>\n      <td>1.105079</td>\n      <td>-1.288278</td>\n      <td>0.221063</td>\n      <td>0.910547</td>\n      <td>0.983700</td>\n      <td>...</td>\n      <td>0.035989</td>\n      <td>-0.078794</td>\n      <td>0.099793</td>\n      <td>-0.063417</td>\n      <td>-0.129470</td>\n      <td>0.159403</td>\n      <td>-0.070959</td>\n      <td>0.063985</td>\n      <td>0.171471</td>\n      <td>0.008811</td>\n    </tr>\n    <tr>\n      <th>13865</th>\n      <td>-1.254183</td>\n      <td>-0.119261</td>\n      <td>0.575970</td>\n      <td>1.558417</td>\n      <td>0.246069</td>\n      <td>1.105079</td>\n      <td>-1.288278</td>\n      <td>0.221063</td>\n      <td>0.910547</td>\n      <td>0.983700</td>\n      <td>...</td>\n      <td>0.035989</td>\n      <td>-0.078794</td>\n      <td>0.099793</td>\n      <td>-0.063417</td>\n      <td>-0.129470</td>\n      <td>0.159403</td>\n      <td>-0.070959</td>\n      <td>0.063985</td>\n      <td>0.171471</td>\n      <td>0.008811</td>\n    </tr>\n  </tbody>\n</table>\n<p>13866 rows × 100 columns</p>\n</div>"
     },
     "metadata": {},
     "execution_count": 47
    }
   ],
   "source": [
    "X_final_jan"
   ]
  },
  {
   "source": [
    "## Random Forest Regressor - test data ##"
   ],
   "cell_type": "markdown",
   "metadata": {}
  },
  {
   "cell_type": "code",
   "execution_count": 48,
   "metadata": {},
   "outputs": [],
   "source": [
    "from sklearn.model_selection import train_test_split\n",
    "X_train,X_test,y_train,y_test = train_test_split(X_sample,y_sample,train_size=0.8)"
   ]
  },
  {
   "cell_type": "code",
   "execution_count": 49,
   "metadata": {},
   "outputs": [],
   "source": [
    "#Create a Gaussian Classifier\n",
    "rfg_model = RandomForestRegressor()"
   ]
  },
  {
   "cell_type": "code",
   "execution_count": 50,
   "metadata": {},
   "outputs": [
    {
     "output_type": "execute_result",
     "data": {
      "text/plain": [
       "RandomForestRegressor()"
      ]
     },
     "metadata": {},
     "execution_count": 50
    }
   ],
   "source": [
    "#Train the model using the training sets y_pred=clf.predict(X_test)\n",
    "rfg_model.fit(X_train,y_train)"
   ]
  },
  {
   "cell_type": "code",
   "execution_count": 51,
   "metadata": {},
   "outputs": [],
   "source": [
    "y_predRFG = rfg_model.predict(X_final_jan)"
   ]
  },
  {
   "cell_type": "code",
   "execution_count": 52,
   "metadata": {},
   "outputs": [
    {
     "output_type": "execute_result",
     "data": {
      "text/plain": [
       "array([ 5.21, 11.71,  5.21, ...,  0.  ,  9.71,  9.71])"
      ]
     },
     "metadata": {},
     "execution_count": 52
    }
   ],
   "source": [
    "y_predRFG"
   ]
  },
  {
   "cell_type": "code",
   "execution_count": 53,
   "metadata": {},
   "outputs": [],
   "source": [
    "y_randomforest = pd.DataFrame(y_predRFG)"
   ]
  },
  {
   "cell_type": "code",
   "execution_count": 91,
   "metadata": {},
   "outputs": [],
   "source": [
    "y_randomforest = y_randomforest.rename(columns={0:'randomforest_prediction'})"
   ]
  },
  {
   "cell_type": "code",
   "execution_count": 93,
   "metadata": {},
   "outputs": [],
   "source": [
    "y_randomforest.to_csv('/Users/zumiis/bootcamp_git/midterm/submission_files/y_random_forest.csv', index=False)"
   ]
  },
  {
   "cell_type": "code",
   "execution_count": 55,
   "metadata": {},
   "outputs": [
    {
     "output_type": "execute_result",
     "data": {
      "text/plain": [
       "           0\n",
       "0       5.21\n",
       "1      11.71\n",
       "2       5.21\n",
       "3      11.71\n",
       "4       5.21\n",
       "...      ...\n",
       "13861   0.00\n",
       "13862   0.00\n",
       "13863   0.00\n",
       "13864   9.71\n",
       "13865   9.71\n",
       "\n",
       "[13866 rows x 1 columns]"
      ],
      "text/html": "<div>\n<style scoped>\n    .dataframe tbody tr th:only-of-type {\n        vertical-align: middle;\n    }\n\n    .dataframe tbody tr th {\n        vertical-align: top;\n    }\n\n    .dataframe thead th {\n        text-align: right;\n    }\n</style>\n<table border=\"1\" class=\"dataframe\">\n  <thead>\n    <tr style=\"text-align: right;\">\n      <th></th>\n      <th>0</th>\n    </tr>\n  </thead>\n  <tbody>\n    <tr>\n      <th>0</th>\n      <td>5.21</td>\n    </tr>\n    <tr>\n      <th>1</th>\n      <td>11.71</td>\n    </tr>\n    <tr>\n      <th>2</th>\n      <td>5.21</td>\n    </tr>\n    <tr>\n      <th>3</th>\n      <td>11.71</td>\n    </tr>\n    <tr>\n      <th>4</th>\n      <td>5.21</td>\n    </tr>\n    <tr>\n      <th>...</th>\n      <td>...</td>\n    </tr>\n    <tr>\n      <th>13861</th>\n      <td>0.00</td>\n    </tr>\n    <tr>\n      <th>13862</th>\n      <td>0.00</td>\n    </tr>\n    <tr>\n      <th>13863</th>\n      <td>0.00</td>\n    </tr>\n    <tr>\n      <th>13864</th>\n      <td>9.71</td>\n    </tr>\n    <tr>\n      <th>13865</th>\n      <td>9.71</td>\n    </tr>\n  </tbody>\n</table>\n<p>13866 rows × 1 columns</p>\n</div>"
     },
     "metadata": {},
     "execution_count": 55
    }
   ],
   "source": [
    "y_randomforest"
   ]
  },
  {
   "source": [
    "## Gradient Boosting - test data ##"
   ],
   "cell_type": "markdown",
   "metadata": {}
  },
  {
   "cell_type": "code",
   "execution_count": 56,
   "metadata": {},
   "outputs": [],
   "source": [
    "from sklearn.model_selection import train_test_split\n",
    "X_train,X_test,y_train,y_test = train_test_split(X_sample,y_sample,train_size=0.8)"
   ]
  },
  {
   "cell_type": "code",
   "execution_count": 57,
   "metadata": {},
   "outputs": [],
   "source": [
    "# define the model\n",
    "gbr_model = GradientBoostingRegressor()"
   ]
  },
  {
   "cell_type": "code",
   "execution_count": 58,
   "metadata": {},
   "outputs": [
    {
     "output_type": "execute_result",
     "data": {
      "text/plain": [
       "GradientBoostingRegressor()"
      ]
     },
     "metadata": {},
     "execution_count": 58
    }
   ],
   "source": [
    "# fit the model on the whole dataset\n",
    "gbr_model.fit(X_train, y_train)"
   ]
  },
  {
   "cell_type": "code",
   "execution_count": 59,
   "metadata": {},
   "outputs": [],
   "source": [
    "y_predGB = gbr_model.predict(X_final_jan)"
   ]
  },
  {
   "cell_type": "code",
   "execution_count": 66,
   "metadata": {},
   "outputs": [
    {
     "output_type": "execute_result",
     "data": {
      "text/plain": [
       "array([  1.06642124,   5.95290941,   1.06642124, ..., -13.25119292,\n",
       "        -8.30426515,  -8.30426515])"
      ]
     },
     "metadata": {},
     "execution_count": 66
    }
   ],
   "source": [
    "y_predGB"
   ]
  },
  {
   "cell_type": "code",
   "execution_count": 67,
   "metadata": {},
   "outputs": [],
   "source": [
    "y_gradientboost = pd.DataFrame(y_predGB)"
   ]
  },
  {
   "cell_type": "code",
   "execution_count": 95,
   "metadata": {},
   "outputs": [],
   "source": [
    "y_gradientboost =  y_gradientboost.rename(columns={0:'gradientBoost_prediction'})"
   ]
  },
  {
   "cell_type": "code",
   "execution_count": 96,
   "metadata": {},
   "outputs": [],
   "source": [
    "y_gradientboost.to_csv('/Users/zumiis/bootcamp_git/midterm/submission_files/y_gradient_boost.csv', index=False)"
   ]
  },
  {
   "source": [
    "## Linear Regression - test data##"
   ],
   "cell_type": "markdown",
   "metadata": {}
  },
  {
   "cell_type": "code",
   "execution_count": 108,
   "metadata": {},
   "outputs": [
    {
     "output_type": "execute_result",
     "data": {
      "text/plain": [
       "       arr_delay7  arr_delay14  arr_rolling7  arr_rolling14  dep_delay7  \\\n",
       "0             1.0         -9.0      1.285714       1.571429        -1.0   \n",
       "1           -19.0         13.0     13.428571      11.000000        -5.0   \n",
       "2             1.0         -9.0      1.285714       1.571429        -1.0   \n",
       "3           -19.0         13.0     13.428571      11.000000        -5.0   \n",
       "4             1.0         -9.0      1.285714       1.571429        -1.0   \n",
       "...           ...          ...           ...            ...         ...   \n",
       "13861        -1.0        -13.0      4.428571      -2.500000         7.0   \n",
       "13862        -1.0        -13.0      4.428571      -2.500000         7.0   \n",
       "13863        -1.0        -13.0      4.428571      -2.500000         7.0   \n",
       "13864        32.0        -15.0      0.428571       3.571429        11.0   \n",
       "13865        32.0        -15.0      0.428571       3.571429        11.0   \n",
       "\n",
       "       dep_delay14  dep_rolling7  dep_rolling14  quarter  year  ...  \\\n",
       "0             -8.0      6.000000       4.714286        1  2019  ...   \n",
       "1              6.0      9.857143       9.500000        1  2019  ...   \n",
       "2             -8.0      6.000000       4.714286        1  2019  ...   \n",
       "3              6.0      9.857143       9.500000        1  2019  ...   \n",
       "4             -8.0      6.000000       4.714286        1  2019  ...   \n",
       "...            ...           ...            ...      ...   ...  ...   \n",
       "13861          2.0     11.857143       7.214286        2  2019  ...   \n",
       "13862          2.0     11.857143       7.214286        2  2019  ...   \n",
       "13863          2.0     11.857143       7.214286        2  2019  ...   \n",
       "13864         -5.0      6.428571      10.571429        3  2018  ...   \n",
       "13865         -5.0      6.428571      10.571429        3  2018  ...   \n",
       "\n",
       "       dest_city_name_Savannah, GA  dest_city_name_Seattle, WA  \\\n",
       "0                                0                           0   \n",
       "1                                0                           0   \n",
       "2                                0                           0   \n",
       "3                                0                           0   \n",
       "4                                0                           0   \n",
       "...                            ...                         ...   \n",
       "13861                            0                           0   \n",
       "13862                            0                           0   \n",
       "13863                            0                           0   \n",
       "13864                            0                           0   \n",
       "13865                            0                           0   \n",
       "\n",
       "       dest_city_name_St. Louis, MO  dest_city_name_Syracuse, NY  \\\n",
       "0                                 0                            0   \n",
       "1                                 0                            0   \n",
       "2                                 0                            0   \n",
       "3                                 0                            0   \n",
       "4                                 0                            0   \n",
       "...                             ...                          ...   \n",
       "13861                             0                            0   \n",
       "13862                             0                            0   \n",
       "13863                             0                            0   \n",
       "13864                             0                            0   \n",
       "13865                             0                            0   \n",
       "\n",
       "       dest_city_name_Tallahassee, FL  dest_city_name_Tucson, AZ  \\\n",
       "0                                   0                          0   \n",
       "1                                   0                          0   \n",
       "2                                   0                          0   \n",
       "3                                   0                          0   \n",
       "4                                   0                          0   \n",
       "...                               ...                        ...   \n",
       "13861                               0                          0   \n",
       "13862                               0                          0   \n",
       "13863                               0                          0   \n",
       "13864                               0                          0   \n",
       "13865                               0                          0   \n",
       "\n",
       "       dest_city_name_Washington, DC  \\\n",
       "0                                  0   \n",
       "1                                  0   \n",
       "2                                  0   \n",
       "3                                  0   \n",
       "4                                  0   \n",
       "...                              ...   \n",
       "13861                              0   \n",
       "13862                              0   \n",
       "13863                              0   \n",
       "13864                              0   \n",
       "13865                              0   \n",
       "\n",
       "       dest_city_name_West Palm Beach/Palm Beach, FL  \\\n",
       "0                                                  0   \n",
       "1                                                  0   \n",
       "2                                                  0   \n",
       "3                                                  0   \n",
       "4                                                  0   \n",
       "...                                              ...   \n",
       "13861                                              0   \n",
       "13862                                              0   \n",
       "13863                                              0   \n",
       "13864                                              0   \n",
       "13865                                              0   \n",
       "\n",
       "       dest_city_name_White Plains, NY  dest_city_name_Wilmington, NC  \n",
       "0                                    0                              0  \n",
       "1                                    0                              0  \n",
       "2                                    0                              0  \n",
       "3                                    0                              0  \n",
       "4                                    0                              0  \n",
       "...                                ...                            ...  \n",
       "13861                                0                              0  \n",
       "13862                                0                              0  \n",
       "13863                                0                              0  \n",
       "13864                                0                              0  \n",
       "13865                                0                              0  \n",
       "\n",
       "[13866 rows x 185 columns]"
      ],
      "text/html": "<div>\n<style scoped>\n    .dataframe tbody tr th:only-of-type {\n        vertical-align: middle;\n    }\n\n    .dataframe tbody tr th {\n        vertical-align: top;\n    }\n\n    .dataframe thead th {\n        text-align: right;\n    }\n</style>\n<table border=\"1\" class=\"dataframe\">\n  <thead>\n    <tr style=\"text-align: right;\">\n      <th></th>\n      <th>arr_delay7</th>\n      <th>arr_delay14</th>\n      <th>arr_rolling7</th>\n      <th>arr_rolling14</th>\n      <th>dep_delay7</th>\n      <th>dep_delay14</th>\n      <th>dep_rolling7</th>\n      <th>dep_rolling14</th>\n      <th>quarter</th>\n      <th>year</th>\n      <th>...</th>\n      <th>dest_city_name_Savannah, GA</th>\n      <th>dest_city_name_Seattle, WA</th>\n      <th>dest_city_name_St. Louis, MO</th>\n      <th>dest_city_name_Syracuse, NY</th>\n      <th>dest_city_name_Tallahassee, FL</th>\n      <th>dest_city_name_Tucson, AZ</th>\n      <th>dest_city_name_Washington, DC</th>\n      <th>dest_city_name_West Palm Beach/Palm Beach, FL</th>\n      <th>dest_city_name_White Plains, NY</th>\n      <th>dest_city_name_Wilmington, NC</th>\n    </tr>\n  </thead>\n  <tbody>\n    <tr>\n      <th>0</th>\n      <td>1.0</td>\n      <td>-9.0</td>\n      <td>1.285714</td>\n      <td>1.571429</td>\n      <td>-1.0</td>\n      <td>-8.0</td>\n      <td>6.000000</td>\n      <td>4.714286</td>\n      <td>1</td>\n      <td>2019</td>\n      <td>...</td>\n      <td>0</td>\n      <td>0</td>\n      <td>0</td>\n      <td>0</td>\n      <td>0</td>\n      <td>0</td>\n      <td>0</td>\n      <td>0</td>\n      <td>0</td>\n      <td>0</td>\n    </tr>\n    <tr>\n      <th>1</th>\n      <td>-19.0</td>\n      <td>13.0</td>\n      <td>13.428571</td>\n      <td>11.000000</td>\n      <td>-5.0</td>\n      <td>6.0</td>\n      <td>9.857143</td>\n      <td>9.500000</td>\n      <td>1</td>\n      <td>2019</td>\n      <td>...</td>\n      <td>0</td>\n      <td>0</td>\n      <td>0</td>\n      <td>0</td>\n      <td>0</td>\n      <td>0</td>\n      <td>0</td>\n      <td>0</td>\n      <td>0</td>\n      <td>0</td>\n    </tr>\n    <tr>\n      <th>2</th>\n      <td>1.0</td>\n      <td>-9.0</td>\n      <td>1.285714</td>\n      <td>1.571429</td>\n      <td>-1.0</td>\n      <td>-8.0</td>\n      <td>6.000000</td>\n      <td>4.714286</td>\n      <td>1</td>\n      <td>2019</td>\n      <td>...</td>\n      <td>0</td>\n      <td>0</td>\n      <td>0</td>\n      <td>0</td>\n      <td>0</td>\n      <td>0</td>\n      <td>0</td>\n      <td>0</td>\n      <td>0</td>\n      <td>0</td>\n    </tr>\n    <tr>\n      <th>3</th>\n      <td>-19.0</td>\n      <td>13.0</td>\n      <td>13.428571</td>\n      <td>11.000000</td>\n      <td>-5.0</td>\n      <td>6.0</td>\n      <td>9.857143</td>\n      <td>9.500000</td>\n      <td>1</td>\n      <td>2019</td>\n      <td>...</td>\n      <td>0</td>\n      <td>0</td>\n      <td>0</td>\n      <td>0</td>\n      <td>0</td>\n      <td>0</td>\n      <td>0</td>\n      <td>0</td>\n      <td>0</td>\n      <td>0</td>\n    </tr>\n    <tr>\n      <th>4</th>\n      <td>1.0</td>\n      <td>-9.0</td>\n      <td>1.285714</td>\n      <td>1.571429</td>\n      <td>-1.0</td>\n      <td>-8.0</td>\n      <td>6.000000</td>\n      <td>4.714286</td>\n      <td>1</td>\n      <td>2019</td>\n      <td>...</td>\n      <td>0</td>\n      <td>0</td>\n      <td>0</td>\n      <td>0</td>\n      <td>0</td>\n      <td>0</td>\n      <td>0</td>\n      <td>0</td>\n      <td>0</td>\n      <td>0</td>\n    </tr>\n    <tr>\n      <th>...</th>\n      <td>...</td>\n      <td>...</td>\n      <td>...</td>\n      <td>...</td>\n      <td>...</td>\n      <td>...</td>\n      <td>...</td>\n      <td>...</td>\n      <td>...</td>\n      <td>...</td>\n      <td>...</td>\n      <td>...</td>\n      <td>...</td>\n      <td>...</td>\n      <td>...</td>\n      <td>...</td>\n      <td>...</td>\n      <td>...</td>\n      <td>...</td>\n      <td>...</td>\n      <td>...</td>\n    </tr>\n    <tr>\n      <th>13861</th>\n      <td>-1.0</td>\n      <td>-13.0</td>\n      <td>4.428571</td>\n      <td>-2.500000</td>\n      <td>7.0</td>\n      <td>2.0</td>\n      <td>11.857143</td>\n      <td>7.214286</td>\n      <td>2</td>\n      <td>2019</td>\n      <td>...</td>\n      <td>0</td>\n      <td>0</td>\n      <td>0</td>\n      <td>0</td>\n      <td>0</td>\n      <td>0</td>\n      <td>0</td>\n      <td>0</td>\n      <td>0</td>\n      <td>0</td>\n    </tr>\n    <tr>\n      <th>13862</th>\n      <td>-1.0</td>\n      <td>-13.0</td>\n      <td>4.428571</td>\n      <td>-2.500000</td>\n      <td>7.0</td>\n      <td>2.0</td>\n      <td>11.857143</td>\n      <td>7.214286</td>\n      <td>2</td>\n      <td>2019</td>\n      <td>...</td>\n      <td>0</td>\n      <td>0</td>\n      <td>0</td>\n      <td>0</td>\n      <td>0</td>\n      <td>0</td>\n      <td>0</td>\n      <td>0</td>\n      <td>0</td>\n      <td>0</td>\n    </tr>\n    <tr>\n      <th>13863</th>\n      <td>-1.0</td>\n      <td>-13.0</td>\n      <td>4.428571</td>\n      <td>-2.500000</td>\n      <td>7.0</td>\n      <td>2.0</td>\n      <td>11.857143</td>\n      <td>7.214286</td>\n      <td>2</td>\n      <td>2019</td>\n      <td>...</td>\n      <td>0</td>\n      <td>0</td>\n      <td>0</td>\n      <td>0</td>\n      <td>0</td>\n      <td>0</td>\n      <td>0</td>\n      <td>0</td>\n      <td>0</td>\n      <td>0</td>\n    </tr>\n    <tr>\n      <th>13864</th>\n      <td>32.0</td>\n      <td>-15.0</td>\n      <td>0.428571</td>\n      <td>3.571429</td>\n      <td>11.0</td>\n      <td>-5.0</td>\n      <td>6.428571</td>\n      <td>10.571429</td>\n      <td>3</td>\n      <td>2018</td>\n      <td>...</td>\n      <td>0</td>\n      <td>0</td>\n      <td>0</td>\n      <td>0</td>\n      <td>0</td>\n      <td>0</td>\n      <td>0</td>\n      <td>0</td>\n      <td>0</td>\n      <td>0</td>\n    </tr>\n    <tr>\n      <th>13865</th>\n      <td>32.0</td>\n      <td>-15.0</td>\n      <td>0.428571</td>\n      <td>3.571429</td>\n      <td>11.0</td>\n      <td>-5.0</td>\n      <td>6.428571</td>\n      <td>10.571429</td>\n      <td>3</td>\n      <td>2018</td>\n      <td>...</td>\n      <td>0</td>\n      <td>0</td>\n      <td>0</td>\n      <td>0</td>\n      <td>0</td>\n      <td>0</td>\n      <td>0</td>\n      <td>0</td>\n      <td>0</td>\n      <td>0</td>\n    </tr>\n  </tbody>\n</table>\n<p>13866 rows × 185 columns</p>\n</div>"
     },
     "metadata": {},
     "execution_count": 108
    }
   ],
   "source": [
    "reg_test_sample"
   ]
  },
  {
   "cell_type": "code",
   "execution_count": null,
   "metadata": {},
   "outputs": [],
   "source": []
  },
  {
   "cell_type": "code",
   "execution_count": 125,
   "metadata": {},
   "outputs": [
    {
     "output_type": "execute_result",
     "data": {
      "text/plain": [
       "            PC1       PC2       PC3       PC4       PC5       PC6       PC7  \\\n",
       "0     -1.977626  1.825183  0.503076 -0.485557 -0.994937 -0.767599  0.395538   \n",
       "1     -1.575564  2.357389  0.382423 -0.122328 -0.477974 -0.920258  0.525485   \n",
       "2     -1.977626  1.825183  0.503076 -0.485557 -0.994937 -0.767599  0.395538   \n",
       "3     -1.575564  2.357389  0.382423 -0.122328 -0.477974 -0.920258  0.525485   \n",
       "4     -1.977626  1.825183  0.503076 -0.485557 -0.994937 -0.767599  0.395538   \n",
       "...         ...       ...       ...       ...       ...       ...       ...   \n",
       "63376 -1.230285 -0.157273  0.657834  1.587862  0.442945  0.905503 -1.418754   \n",
       "63377 -1.230285 -0.157273  0.657834  1.587862  0.442945  0.905503 -1.418754   \n",
       "63378 -1.230285 -0.157273  0.657834  1.587862  0.442945  0.905503 -1.418754   \n",
       "63379 -1.230285 -0.157273  0.657834  1.587862  0.442945  0.905503 -1.418754   \n",
       "63380 -1.230285 -0.157273  0.657834  1.587862  0.442945  0.905503 -1.418754   \n",
       "\n",
       "            PC8       PC9      PC10  ...      PC91      PC92      PC93  \\\n",
       "0     -0.408604 -0.202715 -1.568096  ... -0.024844  0.004740  0.000833   \n",
       "1     -0.073104 -0.767145 -1.589766  ... -0.028087 -0.011743 -0.004414   \n",
       "2     -0.408604 -0.202715 -1.568096  ... -0.024844  0.004740  0.000833   \n",
       "3     -0.073104 -0.767145 -1.589766  ... -0.028087 -0.011743 -0.004414   \n",
       "4     -0.408604 -0.202715 -1.568096  ... -0.024844  0.004740  0.000833   \n",
       "...         ...       ...       ...  ...       ...       ...       ...   \n",
       "63376 -0.243973  0.779555  1.126513  ...  0.036640  0.137616  0.044444   \n",
       "63377 -0.243973  0.779555  1.126513  ...  0.036640  0.137616  0.044444   \n",
       "63378 -0.243973  0.779555  1.126513  ...  0.036640  0.137616  0.044444   \n",
       "63379 -0.243973  0.779555  1.126513  ...  0.036640  0.137616  0.044444   \n",
       "63380 -0.243973  0.779555  1.126513  ...  0.036640  0.137616  0.044444   \n",
       "\n",
       "           PC94      PC95      PC96      PC97      PC98      PC99     PC100  \n",
       "0     -0.021166 -0.005192 -0.013594  0.030897  0.003824 -0.006185 -0.023244  \n",
       "1     -0.025163 -0.026831 -0.004857  0.025131 -0.011381  0.005820 -0.022978  \n",
       "2     -0.021166 -0.005192 -0.013594  0.030897  0.003824 -0.006185 -0.023244  \n",
       "3     -0.025163 -0.026831 -0.004857  0.025131 -0.011381  0.005820 -0.022978  \n",
       "4     -0.021166 -0.005192 -0.013594  0.030897  0.003824 -0.006185 -0.023244  \n",
       "...         ...       ...       ...       ...       ...       ...       ...  \n",
       "63376 -0.130620  0.222505  0.156708  0.188700 -0.174051 -0.008406 -0.003586  \n",
       "63377 -0.130620  0.222505  0.156708  0.188700 -0.174051 -0.008406 -0.003586  \n",
       "63378 -0.130620  0.222505  0.156708  0.188700 -0.174051 -0.008406 -0.003586  \n",
       "63379 -0.130620  0.222505  0.156708  0.188700 -0.174051 -0.008406 -0.003586  \n",
       "63380 -0.130620  0.222505  0.156708  0.188700 -0.174051 -0.008406 -0.003586  \n",
       "\n",
       "[63381 rows x 100 columns]"
      ],
      "text/html": "<div>\n<style scoped>\n    .dataframe tbody tr th:only-of-type {\n        vertical-align: middle;\n    }\n\n    .dataframe tbody tr th {\n        vertical-align: top;\n    }\n\n    .dataframe thead th {\n        text-align: right;\n    }\n</style>\n<table border=\"1\" class=\"dataframe\">\n  <thead>\n    <tr style=\"text-align: right;\">\n      <th></th>\n      <th>PC1</th>\n      <th>PC2</th>\n      <th>PC3</th>\n      <th>PC4</th>\n      <th>PC5</th>\n      <th>PC6</th>\n      <th>PC7</th>\n      <th>PC8</th>\n      <th>PC9</th>\n      <th>PC10</th>\n      <th>...</th>\n      <th>PC91</th>\n      <th>PC92</th>\n      <th>PC93</th>\n      <th>PC94</th>\n      <th>PC95</th>\n      <th>PC96</th>\n      <th>PC97</th>\n      <th>PC98</th>\n      <th>PC99</th>\n      <th>PC100</th>\n    </tr>\n  </thead>\n  <tbody>\n    <tr>\n      <th>0</th>\n      <td>-1.977626</td>\n      <td>1.825183</td>\n      <td>0.503076</td>\n      <td>-0.485557</td>\n      <td>-0.994937</td>\n      <td>-0.767599</td>\n      <td>0.395538</td>\n      <td>-0.408604</td>\n      <td>-0.202715</td>\n      <td>-1.568096</td>\n      <td>...</td>\n      <td>-0.024844</td>\n      <td>0.004740</td>\n      <td>0.000833</td>\n      <td>-0.021166</td>\n      <td>-0.005192</td>\n      <td>-0.013594</td>\n      <td>0.030897</td>\n      <td>0.003824</td>\n      <td>-0.006185</td>\n      <td>-0.023244</td>\n    </tr>\n    <tr>\n      <th>1</th>\n      <td>-1.575564</td>\n      <td>2.357389</td>\n      <td>0.382423</td>\n      <td>-0.122328</td>\n      <td>-0.477974</td>\n      <td>-0.920258</td>\n      <td>0.525485</td>\n      <td>-0.073104</td>\n      <td>-0.767145</td>\n      <td>-1.589766</td>\n      <td>...</td>\n      <td>-0.028087</td>\n      <td>-0.011743</td>\n      <td>-0.004414</td>\n      <td>-0.025163</td>\n      <td>-0.026831</td>\n      <td>-0.004857</td>\n      <td>0.025131</td>\n      <td>-0.011381</td>\n      <td>0.005820</td>\n      <td>-0.022978</td>\n    </tr>\n    <tr>\n      <th>2</th>\n      <td>-1.977626</td>\n      <td>1.825183</td>\n      <td>0.503076</td>\n      <td>-0.485557</td>\n      <td>-0.994937</td>\n      <td>-0.767599</td>\n      <td>0.395538</td>\n      <td>-0.408604</td>\n      <td>-0.202715</td>\n      <td>-1.568096</td>\n      <td>...</td>\n      <td>-0.024844</td>\n      <td>0.004740</td>\n      <td>0.000833</td>\n      <td>-0.021166</td>\n      <td>-0.005192</td>\n      <td>-0.013594</td>\n      <td>0.030897</td>\n      <td>0.003824</td>\n      <td>-0.006185</td>\n      <td>-0.023244</td>\n    </tr>\n    <tr>\n      <th>3</th>\n      <td>-1.575564</td>\n      <td>2.357389</td>\n      <td>0.382423</td>\n      <td>-0.122328</td>\n      <td>-0.477974</td>\n      <td>-0.920258</td>\n      <td>0.525485</td>\n      <td>-0.073104</td>\n      <td>-0.767145</td>\n      <td>-1.589766</td>\n      <td>...</td>\n      <td>-0.028087</td>\n      <td>-0.011743</td>\n      <td>-0.004414</td>\n      <td>-0.025163</td>\n      <td>-0.026831</td>\n      <td>-0.004857</td>\n      <td>0.025131</td>\n      <td>-0.011381</td>\n      <td>0.005820</td>\n      <td>-0.022978</td>\n    </tr>\n    <tr>\n      <th>4</th>\n      <td>-1.977626</td>\n      <td>1.825183</td>\n      <td>0.503076</td>\n      <td>-0.485557</td>\n      <td>-0.994937</td>\n      <td>-0.767599</td>\n      <td>0.395538</td>\n      <td>-0.408604</td>\n      <td>-0.202715</td>\n      <td>-1.568096</td>\n      <td>...</td>\n      <td>-0.024844</td>\n      <td>0.004740</td>\n      <td>0.000833</td>\n      <td>-0.021166</td>\n      <td>-0.005192</td>\n      <td>-0.013594</td>\n      <td>0.030897</td>\n      <td>0.003824</td>\n      <td>-0.006185</td>\n      <td>-0.023244</td>\n    </tr>\n    <tr>\n      <th>...</th>\n      <td>...</td>\n      <td>...</td>\n      <td>...</td>\n      <td>...</td>\n      <td>...</td>\n      <td>...</td>\n      <td>...</td>\n      <td>...</td>\n      <td>...</td>\n      <td>...</td>\n      <td>...</td>\n      <td>...</td>\n      <td>...</td>\n      <td>...</td>\n      <td>...</td>\n      <td>...</td>\n      <td>...</td>\n      <td>...</td>\n      <td>...</td>\n      <td>...</td>\n      <td>...</td>\n    </tr>\n    <tr>\n      <th>63376</th>\n      <td>-1.230285</td>\n      <td>-0.157273</td>\n      <td>0.657834</td>\n      <td>1.587862</td>\n      <td>0.442945</td>\n      <td>0.905503</td>\n      <td>-1.418754</td>\n      <td>-0.243973</td>\n      <td>0.779555</td>\n      <td>1.126513</td>\n      <td>...</td>\n      <td>0.036640</td>\n      <td>0.137616</td>\n      <td>0.044444</td>\n      <td>-0.130620</td>\n      <td>0.222505</td>\n      <td>0.156708</td>\n      <td>0.188700</td>\n      <td>-0.174051</td>\n      <td>-0.008406</td>\n      <td>-0.003586</td>\n    </tr>\n    <tr>\n      <th>63377</th>\n      <td>-1.230285</td>\n      <td>-0.157273</td>\n      <td>0.657834</td>\n      <td>1.587862</td>\n      <td>0.442945</td>\n      <td>0.905503</td>\n      <td>-1.418754</td>\n      <td>-0.243973</td>\n      <td>0.779555</td>\n      <td>1.126513</td>\n      <td>...</td>\n      <td>0.036640</td>\n      <td>0.137616</td>\n      <td>0.044444</td>\n      <td>-0.130620</td>\n      <td>0.222505</td>\n      <td>0.156708</td>\n      <td>0.188700</td>\n      <td>-0.174051</td>\n      <td>-0.008406</td>\n      <td>-0.003586</td>\n    </tr>\n    <tr>\n      <th>63378</th>\n      <td>-1.230285</td>\n      <td>-0.157273</td>\n      <td>0.657834</td>\n      <td>1.587862</td>\n      <td>0.442945</td>\n      <td>0.905503</td>\n      <td>-1.418754</td>\n      <td>-0.243973</td>\n      <td>0.779555</td>\n      <td>1.126513</td>\n      <td>...</td>\n      <td>0.036640</td>\n      <td>0.137616</td>\n      <td>0.044444</td>\n      <td>-0.130620</td>\n      <td>0.222505</td>\n      <td>0.156708</td>\n      <td>0.188700</td>\n      <td>-0.174051</td>\n      <td>-0.008406</td>\n      <td>-0.003586</td>\n    </tr>\n    <tr>\n      <th>63379</th>\n      <td>-1.230285</td>\n      <td>-0.157273</td>\n      <td>0.657834</td>\n      <td>1.587862</td>\n      <td>0.442945</td>\n      <td>0.905503</td>\n      <td>-1.418754</td>\n      <td>-0.243973</td>\n      <td>0.779555</td>\n      <td>1.126513</td>\n      <td>...</td>\n      <td>0.036640</td>\n      <td>0.137616</td>\n      <td>0.044444</td>\n      <td>-0.130620</td>\n      <td>0.222505</td>\n      <td>0.156708</td>\n      <td>0.188700</td>\n      <td>-0.174051</td>\n      <td>-0.008406</td>\n      <td>-0.003586</td>\n    </tr>\n    <tr>\n      <th>63380</th>\n      <td>-1.230285</td>\n      <td>-0.157273</td>\n      <td>0.657834</td>\n      <td>1.587862</td>\n      <td>0.442945</td>\n      <td>0.905503</td>\n      <td>-1.418754</td>\n      <td>-0.243973</td>\n      <td>0.779555</td>\n      <td>1.126513</td>\n      <td>...</td>\n      <td>0.036640</td>\n      <td>0.137616</td>\n      <td>0.044444</td>\n      <td>-0.130620</td>\n      <td>0.222505</td>\n      <td>0.156708</td>\n      <td>0.188700</td>\n      <td>-0.174051</td>\n      <td>-0.008406</td>\n      <td>-0.003586</td>\n    </tr>\n  </tbody>\n</table>\n<p>63381 rows × 100 columns</p>\n</div>"
     },
     "metadata": {},
     "execution_count": 125
    }
   ],
   "source": [
    "X_final"
   ]
  },
  {
   "cell_type": "code",
   "execution_count": 72,
   "metadata": {},
   "outputs": [],
   "source": [
    "from sklearn.linear_model import LinearRegression"
   ]
  },
  {
   "cell_type": "code",
   "execution_count": 74,
   "metadata": {},
   "outputs": [],
   "source": [
    "from sklearn.model_selection import train_test_split\n",
    "X_train,X_test,y_train,y_test = train_test_split(X_sample,y_sample,train_size=0.8)\n",
    "\n",
    "# Create linear regression object\n",
    "LinReg = LinearRegression()\n",
    "\n",
    "# Train the model using the training sets\n",
    "LinReg.fit(X_train, y_train)\n",
    "\n",
    "# Make predictions using the testing set\n",
    "y_pred = LinReg.predict(X_final_jan)"
   ]
  },
  {
   "cell_type": "code",
   "execution_count": 75,
   "metadata": {},
   "outputs": [
    {
     "output_type": "execute_result",
     "data": {
      "text/plain": [
       "13866"
      ]
     },
     "metadata": {},
     "execution_count": 75
    }
   ],
   "source": [
    "len(y_pred)"
   ]
  },
  {
   "cell_type": "code",
   "execution_count": 76,
   "metadata": {},
   "outputs": [],
   "source": [
    "y_linreg = pd.DataFrame(y_pred)"
   ]
  },
  {
   "cell_type": "code",
   "execution_count": 99,
   "metadata": {},
   "outputs": [
    {
     "output_type": "execute_result",
     "data": {
      "text/plain": [
       "       prediction\n",
       "0        4.074464\n",
       "1        9.775700\n",
       "2        4.074464\n",
       "3        9.775700\n",
       "4        4.074464\n",
       "...           ...\n",
       "13861  -17.190481\n",
       "13862  -17.190481\n",
       "13863  -17.190481\n",
       "13864   -9.565098\n",
       "13865   -9.565098\n",
       "\n",
       "[13866 rows x 1 columns]"
      ],
      "text/html": "<div>\n<style scoped>\n    .dataframe tbody tr th:only-of-type {\n        vertical-align: middle;\n    }\n\n    .dataframe tbody tr th {\n        vertical-align: top;\n    }\n\n    .dataframe thead th {\n        text-align: right;\n    }\n</style>\n<table border=\"1\" class=\"dataframe\">\n  <thead>\n    <tr style=\"text-align: right;\">\n      <th></th>\n      <th>prediction</th>\n    </tr>\n  </thead>\n  <tbody>\n    <tr>\n      <th>0</th>\n      <td>4.074464</td>\n    </tr>\n    <tr>\n      <th>1</th>\n      <td>9.775700</td>\n    </tr>\n    <tr>\n      <th>2</th>\n      <td>4.074464</td>\n    </tr>\n    <tr>\n      <th>3</th>\n      <td>9.775700</td>\n    </tr>\n    <tr>\n      <th>4</th>\n      <td>4.074464</td>\n    </tr>\n    <tr>\n      <th>...</th>\n      <td>...</td>\n    </tr>\n    <tr>\n      <th>13861</th>\n      <td>-17.190481</td>\n    </tr>\n    <tr>\n      <th>13862</th>\n      <td>-17.190481</td>\n    </tr>\n    <tr>\n      <th>13863</th>\n      <td>-17.190481</td>\n    </tr>\n    <tr>\n      <th>13864</th>\n      <td>-9.565098</td>\n    </tr>\n    <tr>\n      <th>13865</th>\n      <td>-9.565098</td>\n    </tr>\n  </tbody>\n</table>\n<p>13866 rows × 1 columns</p>\n</div>"
     },
     "metadata": {},
     "execution_count": 99
    }
   ],
   "source": [
    "y_linreg"
   ]
  },
  {
   "cell_type": "code",
   "execution_count": 100,
   "metadata": {},
   "outputs": [],
   "source": [
    "y_linreg = y_linreg.rename(columns={'prediction':'linear_prediction'})"
   ]
  },
  {
   "cell_type": "code",
   "execution_count": 101,
   "metadata": {},
   "outputs": [],
   "source": [
    "y_linreg.to_csv('/Users/zumiis/bootcamp_git/midterm/submission_files/y_linear_pred.csv', index=False)"
   ]
  },
  {
   "source": [
    "## Polynomial Regression - test data ##"
   ],
   "cell_type": "markdown",
   "metadata": {}
  },
  {
   "cell_type": "code",
   "execution_count": 81,
   "metadata": {},
   "outputs": [],
   "source": [
    "from sklearn.preprocessing import PolynomialFeatures"
   ]
  },
  {
   "cell_type": "code",
   "execution_count": null,
   "metadata": {},
   "outputs": [],
   "source": [
    "poly = PolynomialFeatures(degree=2)\n",
    "x_poly = poly.fit_transform(X_sample)\n",
    "\n",
    "X_train,X_test,y_train,y_test = train_test_split(x_poly,y_sample,train_size=0.8)\n",
    "\n",
    "regression = LinearRegression()\n",
    "\n",
    "model = regression.fit(X_train, y_train)\n",
    "y_pred_poly = model.predict(X_final_jan)"
   ]
  },
  {
   "cell_type": "code",
   "execution_count": null,
   "metadata": {},
   "outputs": [],
   "source": [
    "y_poly_reg = pd.DataFrame(y_pred_poly)"
   ]
  },
  {
   "cell_type": "code",
   "execution_count": null,
   "metadata": {},
   "outputs": [],
   "source": [
    "y_poly_reg.to_csv('/Users/zumiis/bootcamp_git/midterm/submission_files/y_poly_reg.csv')"
   ]
  },
  {
   "cell_type": "code",
   "execution_count": null,
   "metadata": {},
   "outputs": [],
   "source": [
    "y_poly_reg"
   ]
  },
  {
   "cell_type": "code",
   "execution_count": null,
   "metadata": {},
   "outputs": [],
   "source": [
    "X_train"
   ]
  },
  {
   "cell_type": "code",
   "execution_count": null,
   "metadata": {},
   "outputs": [],
   "source": []
  }
 ]
}