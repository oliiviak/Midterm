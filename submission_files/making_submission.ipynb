{
 "metadata": {
  "language_info": {
   "codemirror_mode": {
    "name": "ipython",
    "version": 3
   },
   "file_extension": ".py",
   "mimetype": "text/x-python",
   "name": "python",
   "nbconvert_exporter": "python",
   "pygments_lexer": "ipython3",
   "version": "3.8.5-final"
  },
  "orig_nbformat": 2,
  "kernelspec": {
   "name": "Python 3.8.5 64-bit ('base': conda)",
   "display_name": "Python 3.8.5 64-bit ('base': conda)",
   "metadata": {
    "interpreter": {
     "hash": "208ca50c4d27e81cb3362e837b8987f14388683af36617e2ae3238c5b3da3225"
    }
   }
  }
 },
 "nbformat": 4,
 "nbformat_minor": 2,
 "cells": [
  {
   "cell_type": "code",
   "execution_count": 1,
   "metadata": {},
   "outputs": [],
   "source": [
    "import pandas as pd"
   ]
  },
  {
   "cell_type": "code",
   "execution_count": 17,
   "metadata": {},
   "outputs": [],
   "source": [
    "random_forest = pd.read_csv('/Users/zumiis/bootcamp_git/midterm/submission_files/y_random_forest.csv')"
   ]
  },
  {
   "cell_type": "code",
   "execution_count": 19,
   "metadata": {},
   "outputs": [],
   "source": [
    "gboost = pd.read_csv('/Users/zumiis/bootcamp_git/midterm/submission_files/y_gradient_boost.csv')"
   ]
  },
  {
   "cell_type": "code",
   "execution_count": 24,
   "metadata": {},
   "outputs": [],
   "source": [
    "lin_pred = pd.read_csv('/Users/zumiis/bootcamp_git/midterm/submission_files/y_linear_pred.csv')"
   ]
  },
  {
   "cell_type": "code",
   "execution_count": 26,
   "metadata": {},
   "outputs": [],
   "source": [
    "append = pd.read_csv('/Users/zumiis/bootcamp_git/midterm/vscode_files/append_to_submission.csv')"
   ]
  },
  {
   "cell_type": "code",
   "execution_count": 31,
   "metadata": {},
   "outputs": [],
   "source": [
    "submission = pd.concat([append, lin_pred, random_forest, gboost], axis=1).sort_values(by='fl_date')"
   ]
  },
  {
   "cell_type": "code",
   "execution_count": 32,
   "metadata": {},
   "outputs": [
    {
     "output_type": "execute_result",
     "data": {
      "text/plain": [
       "          fl_date mkt_carrier  mkt_carrier_fl_num origin dest  \\\n",
       "0      2020-01-01          WN                 611    PHX  DEN   \n",
       "3581   2020-01-01          AA                5873    PHX  TUS   \n",
       "3582   2020-01-01          AA                5887    PHX  TUS   \n",
       "3583   2020-01-01          AA                5929    PHX  TUS   \n",
       "3584   2020-01-01          AA                5958    PHX  TUS   \n",
       "...           ...         ...                 ...    ...  ...   \n",
       "10338  2020-01-07          DL                2100    ATL  BOS   \n",
       "10337  2020-01-07          DL                1800    ATL  BOS   \n",
       "10336  2020-01-07          DL                1274    ATL  BOS   \n",
       "10343  2020-01-07          DL                2796    ATL  BOS   \n",
       "7405   2020-01-07          DL                2201    DTW  PHL   \n",
       "\n",
       "       linear_prediction  randomforest_prediction  gradientBoost_prediction  \n",
       "0               4.074464                     5.21                  1.066421  \n",
       "3581            3.856079                     1.29                 -1.886495  \n",
       "3582            3.856079                     1.29                 -1.886495  \n",
       "3583            3.856079                     1.29                 -1.886495  \n",
       "3584            3.856079                     1.29                 -1.886495  \n",
       "...                  ...                      ...                       ...  \n",
       "10338          -6.476193                     0.76                 -5.821472  \n",
       "10337          -6.476193                     0.76                 -5.821472  \n",
       "10336          -6.476193                     0.76                 -5.821472  \n",
       "10343          -6.476193                     0.76                 -5.821472  \n",
       "7405          -19.266363                     0.19                 -6.019428  \n",
       "\n",
       "[13866 rows x 8 columns]"
      ],
      "text/html": "<div>\n<style scoped>\n    .dataframe tbody tr th:only-of-type {\n        vertical-align: middle;\n    }\n\n    .dataframe tbody tr th {\n        vertical-align: top;\n    }\n\n    .dataframe thead th {\n        text-align: right;\n    }\n</style>\n<table border=\"1\" class=\"dataframe\">\n  <thead>\n    <tr style=\"text-align: right;\">\n      <th></th>\n      <th>fl_date</th>\n      <th>mkt_carrier</th>\n      <th>mkt_carrier_fl_num</th>\n      <th>origin</th>\n      <th>dest</th>\n      <th>linear_prediction</th>\n      <th>randomforest_prediction</th>\n      <th>gradientBoost_prediction</th>\n    </tr>\n  </thead>\n  <tbody>\n    <tr>\n      <th>0</th>\n      <td>2020-01-01</td>\n      <td>WN</td>\n      <td>611</td>\n      <td>PHX</td>\n      <td>DEN</td>\n      <td>4.074464</td>\n      <td>5.21</td>\n      <td>1.066421</td>\n    </tr>\n    <tr>\n      <th>3581</th>\n      <td>2020-01-01</td>\n      <td>AA</td>\n      <td>5873</td>\n      <td>PHX</td>\n      <td>TUS</td>\n      <td>3.856079</td>\n      <td>1.29</td>\n      <td>-1.886495</td>\n    </tr>\n    <tr>\n      <th>3582</th>\n      <td>2020-01-01</td>\n      <td>AA</td>\n      <td>5887</td>\n      <td>PHX</td>\n      <td>TUS</td>\n      <td>3.856079</td>\n      <td>1.29</td>\n      <td>-1.886495</td>\n    </tr>\n    <tr>\n      <th>3583</th>\n      <td>2020-01-01</td>\n      <td>AA</td>\n      <td>5929</td>\n      <td>PHX</td>\n      <td>TUS</td>\n      <td>3.856079</td>\n      <td>1.29</td>\n      <td>-1.886495</td>\n    </tr>\n    <tr>\n      <th>3584</th>\n      <td>2020-01-01</td>\n      <td>AA</td>\n      <td>5958</td>\n      <td>PHX</td>\n      <td>TUS</td>\n      <td>3.856079</td>\n      <td>1.29</td>\n      <td>-1.886495</td>\n    </tr>\n    <tr>\n      <th>...</th>\n      <td>...</td>\n      <td>...</td>\n      <td>...</td>\n      <td>...</td>\n      <td>...</td>\n      <td>...</td>\n      <td>...</td>\n      <td>...</td>\n    </tr>\n    <tr>\n      <th>10338</th>\n      <td>2020-01-07</td>\n      <td>DL</td>\n      <td>2100</td>\n      <td>ATL</td>\n      <td>BOS</td>\n      <td>-6.476193</td>\n      <td>0.76</td>\n      <td>-5.821472</td>\n    </tr>\n    <tr>\n      <th>10337</th>\n      <td>2020-01-07</td>\n      <td>DL</td>\n      <td>1800</td>\n      <td>ATL</td>\n      <td>BOS</td>\n      <td>-6.476193</td>\n      <td>0.76</td>\n      <td>-5.821472</td>\n    </tr>\n    <tr>\n      <th>10336</th>\n      <td>2020-01-07</td>\n      <td>DL</td>\n      <td>1274</td>\n      <td>ATL</td>\n      <td>BOS</td>\n      <td>-6.476193</td>\n      <td>0.76</td>\n      <td>-5.821472</td>\n    </tr>\n    <tr>\n      <th>10343</th>\n      <td>2020-01-07</td>\n      <td>DL</td>\n      <td>2796</td>\n      <td>ATL</td>\n      <td>BOS</td>\n      <td>-6.476193</td>\n      <td>0.76</td>\n      <td>-5.821472</td>\n    </tr>\n    <tr>\n      <th>7405</th>\n      <td>2020-01-07</td>\n      <td>DL</td>\n      <td>2201</td>\n      <td>DTW</td>\n      <td>PHL</td>\n      <td>-19.266363</td>\n      <td>0.19</td>\n      <td>-6.019428</td>\n    </tr>\n  </tbody>\n</table>\n<p>13866 rows × 8 columns</p>\n</div>"
     },
     "metadata": {},
     "execution_count": 32
    }
   ],
   "source": [
    "submission"
   ]
  },
  {
   "cell_type": "code",
   "execution_count": 33,
   "metadata": {},
   "outputs": [],
   "source": [
    "submission.to_csv('/Users/zumiis/bootcamp_git/midterm/vscode_files/submission_file.csv', index=False)"
   ]
  },
  {
   "cell_type": "code",
   "execution_count": null,
   "metadata": {},
   "outputs": [],
   "source": []
  }
 ]
}